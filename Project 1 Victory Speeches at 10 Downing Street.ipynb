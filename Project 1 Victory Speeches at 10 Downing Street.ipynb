{
 "cells": [
  {
   "cell_type": "markdown",
   "metadata": {},
   "source": [
    "# Project 1. Victory speeches at 10 Downing Street"
   ]
  },
  {
   "cell_type": "markdown",
   "metadata": {},
   "source": [
    "Over the last 30 years it has become tradition that the leader of the winning party in the British elections addresses the country from outside their future office at 10 Downing Street.\n",
    "\n",
    "The present project analyses a collection of these short speeches, from 1979 to date, with the aim of creating an interactive data visualization that quickly conveys the similarities and differences of the contents of those addresses by party, year, candidate, etc.\n",
    "\n",
    "From the technical point of view, the goal was to work with a small collection of text to test data processing techniques. \n",
    "\n",
    "In this case the sample contains around 12 speeches that could have been read one by one by a human reporter, but this way we were able to go back to the text and make sure that the calculations in our analysis were rendering the correct results.   \n",
    "\n",
    "![](https://s19.postimg.org/wxqpssrj7/British_PMs.jpg)\n"
   ]
  },
  {
   "cell_type": "markdown",
   "metadata": {},
   "source": [
    "**Type of text analysed**: Political speeches                 \n",
    "**Text data description**: +9700 words/12 text files             \n",
    "**Type of project by data size**: Small                      \n",
    "**Data collection**: Manual search "
   ]
  },
  {
   "cell_type": "markdown",
   "metadata": {},
   "source": [
    "## (1) Collecting the data\n",
    "We collected the speeches one by one, using Google search and [this list](https://en.wikipedia.org/wiki/List_of_Prime_Ministers_of_the_United_Kingdom) from Wikipedia as a reference for the dates of elections and re-elections of PMs, their political affiliations, etc.\n",
    "\n",
    "We gave priority to transcripts available at the UK Government website, and only used other sources when the speeches were not available from this official source.\n",
    "\n",
    "Most of the speeches could be retrieved easily, with the exception of the first few ones by Mrs. Thatcher. Instead of official speeches, what survives from those years are transcripts of her exchanges with the press in individual interviews at 10 Downing Street or statements outside the office - from which we infer it was not an offical custom at the time yet. \n",
    "\n"
   ]
  },
  {
   "cell_type": "markdown",
   "metadata": {},
   "source": [
    "### List of speeches/sources\n",
    "\n",
    "2016 - Theresa May - Taken from the [UK Goverment website](https://www.gov.uk/government/speeches/statement-from-the-new-prime-minister-theresa-may)\n",
    "\n",
    "2015 - David Cameron - Taken from the [UK Goverment website](https://www.gov.uk/government/speeches/election-2015-prime-ministers-speech)\n",
    "\n",
    "2010 - David Cameron - Taken from the [Telegraph](http://www.telegraph.co.uk/news/politics/david-cameron/7712954/David-Camerons-speech-full-text.html)\n",
    "\n",
    "2007 - Gordon Brown - Taken from the [Telegraph](http://www.telegraph.co.uk/news/uknews/1555770/Gordon-Browns-first-speech-as-Prime-Minister.html)\n",
    "\n",
    "2005 - Tony Blair - Taken from the [BBC](http://news.bbc.co.uk/1/hi/uk_politics/vote_2005/frontpage/4522185.stm)\n",
    "\n",
    "2001 - Tony Blair - Taken from the [Guardian](http://www.theguardian.com/politics/2001/jun/08/election2001.electionspast1)\n",
    "\n",
    "1997 - Tony Blair - Taken from [CNN](http://edition.cnn.com/WORLD/9705/02/blair.speech)\n",
    "\n",
    "1992 - John Major - Taken from [Major's official website](http://www.johnmajor.co.uk/page1019.html)\n",
    "\n",
    "1990 - John Major - Taken from [Major's official website](http://johnmajor.co.uk/0003.html)\n",
    "\n",
    "1987 - Margaret Thatcher - Taken from the following links in Thatcher's official website: [Remarks returning to No.10 (\"work\")](http://www.margaretthatcher.org/document/106890), [Remarks to the crowd in Downing Street](http://www.margaretthatcher.org/document/106891), [Radio Interview for IRN (General Election victory)](http://www.margaretthatcher.org/document/106893).\n",
    "\n",
    "1983 - Margaret Thatcher - Taken from the following links in Thatcher's official website: [Speech on being re-elected MP for Finchley](http://www.margaretthatcher.org/document/105393), [TV Interview for BBC (re-elected MP for Finchley)](http://www.margaretthatcher.org/document/105174), [Remarks returning to Conservative Central Office](http://www.margaretthatcher.org/document/105175),\n",
    "[TV Interview for BBC (post-election reshuffle)](http://www.margaretthatcher.org/document/105176),\n",
    "[TV Interview for ITN (post-election reshuffle)](http://www.margaretthatcher.org/document/105394),\n",
    "[Radio Interview for IRN (post-election reshuffle)](http://www.margaretthatcher.org/document/105395),\n",
    "[Remarks thanking staff at Conservative Central Office](http://www.margaretthatcher.org/document/105396),\n",
    "[Remarks to crowds in Downing Street (re-election)](http://www.margaretthatcher.org/document/105397) - all statements made on June 10 (victory day).\n",
    "\n",
    "1979 - Margaret Thatcher - Taken from the following links in Thatcher's official website: [Remarks on becoming Prime Minister (St Francis's prayer)](http://www.margaretthatcher.org/speeches/displaydocument.asp?docid=104078)\n",
    "\n"
   ]
  },
  {
   "cell_type": "markdown",
   "metadata": {},
   "source": [
    "## (2) Preparing the data"
   ]
  },
  {
   "cell_type": "markdown",
   "metadata": {},
   "source": [
    "### Analysing text data as a corpus"
   ]
  },
  {
   "cell_type": "markdown",
   "metadata": {},
   "source": [
    "One of the underlying technical goals for this project was to create and work with a corpus to analyse the data. In NLTK there are methods that cannot be applied to all kinds of objects, and we wanted to used methods that only work with text corpora.\n",
    "\n",
    "With that goal in mind, the speeches were copied from the abovementioned sources, pasted into independent text files (.txt) encoded as UTF-8, and placed into the same folder. The convention we used to name the files was `Year[espace]LastNameofPM.txt`"
   ]
  },
  {
   "cell_type": "markdown",
   "metadata": {},
   "source": [
    "![](https://s19.postimg.org/fp79xlkrn/victory_speeches_directory.jpg)                            "
   ]
  },
  {
   "cell_type": "markdown",
   "metadata": {},
   "source": [
    "### 1.1.- Creating a corpus from local files"
   ]
  },
  {
   "cell_type": "markdown",
   "metadata": {},
   "source": [
    "The procedure to create a corpus based on local files is detailed in [chapter 2](http://www.nltk.org/book/ch02.html) of *Natural Language Processing with Python* (Bird, Steven, Edward Loper and Ewan Klein, 2009). \n",
    "\n",
    "We used NLTK's PlaintextCorpusReader, which as its name indicates, is used to \"access corpora that  that consist of unprocessed plaintext data.\" (NLTK 3.0 Documentation, 2015)  and save it in the variable *victorySpeeches* by indicating the path to the files and the types of files to be loaded."
   ]
  },
  {
   "cell_type": "code",
   "execution_count": 26,
   "metadata": {
    "collapsed": false
   },
   "outputs": [
    {
     "data": {
      "text/plain": [
       "['1979 Thatcher.txt',\n",
       " '1983 Thatcher.txt',\n",
       " '1987 Thatcher.txt',\n",
       " '1990 Major.txt',\n",
       " '1992 Major.txt',\n",
       " '1997 Blair.txt',\n",
       " '2001 Blair.txt',\n",
       " '2005 Blair.txt',\n",
       " '2007 Brown.txt',\n",
       " '2010 Cameron.txt',\n",
       " '2015 Cameron.txt',\n",
       " '2016 May.txt']"
      ]
     },
     "execution_count": 26,
     "metadata": {},
     "output_type": "execute_result"
    }
   ],
   "source": [
    "from nltk.corpus import PlaintextCorpusReader\n",
    "corpus_root = \"/users/admin/desktop/British PM Victory Speeches\"\n",
    "\n",
    "# The second argument can be modified depending on the types of files to be included in the corpus\n",
    "# In this case we are including all the files in the directory, but other specifications can be made, like \".txt\" if we\n",
    "# only wanted to include files with that extension\n",
    "victorySpeeches = PlaintextCorpusReader(corpus_root, \".*\")\n",
    "\n",
    "# Now we can see the file ids using the following method:\n",
    "victorySpeeches.fileids()"
   ]
  },
  {
   "cell_type": "markdown",
   "metadata": {},
   "source": [
    "One of the important steps in data cleaning that we found in text-data driven projects reviewed for this research (see Walker, 2016 A and B), as well as in the documentation, is the convenience of changing all the text into lower case. The analysis performed by these tools is case sensitive and will affect the word count of the same word in its capitalised and non-capitalised version.\n",
    "\n",
    "But given that we may also need to use the capitalisation as a way to identify proper names of places or people, just to quote an example, it is convenient to designate two variables to store both versions of the text.\n"
   ]
  },
  {
   "cell_type": "markdown",
   "metadata": {},
   "source": [
    "## (3) Exploring the data\n",
    "File ids can be used to get information specific to each of the files (or combinations thereof) in the collection.\n",
    "\n",
    "For instance, we can process count the number of words in Mrs. May's speech:"
   ]
  },
  {
   "cell_type": "code",
   "execution_count": 27,
   "metadata": {
    "collapsed": false
   },
   "outputs": [
    {
     "data": {
      "text/plain": [
       "776"
      ]
     },
     "execution_count": 27,
     "metadata": {},
     "output_type": "execute_result"
    }
   ],
   "source": [
    "# We first break down the text into words...\n",
    "mayWC = victorySpeeches.words('2016 May.txt')\n",
    "\n",
    "# ...and then count them.\n",
    "len(mayWC)"
   ]
  },
  {
   "cell_type": "markdown",
   "metadata": {},
   "source": [
    "We can also do the count for all the files and put it in one place to get a comparative perspective."
   ]
  },
  {
   "cell_type": "code",
   "execution_count": 28,
   "metadata": {
    "collapsed": false
   },
   "outputs": [
    {
     "name": "stdout",
     "output_type": "stream",
     "text": [
      "Words  Speech\n",
      "458 - 1979 Thatcher.txt\n",
      "1620 - 1983 Thatcher.txt\n",
      "1124 - 1987 Thatcher.txt\n",
      "553 - 1990 Major.txt\n",
      "673 - 1992 Major.txt\n",
      "617 - 1997 Blair.txt\n",
      "939 - 2001 Blair.txt\n",
      "1091 - 2005 Blair.txt\n",
      "382 - 2007 Brown.txt\n",
      "707 - 2010 Cameron.txt\n",
      "770 - 2015 Cameron.txt\n",
      "776 - 2016 May.txt\n"
     ]
    }
   ],
   "source": [
    "print(\"Words  Speech\")\n",
    "for fileid in victorySpeeches.fileids():\n",
    "    num_words = len(victorySpeeches.words(fileid))\n",
    "    num_vocab = len(set(w.lower() for w in victorySpeeches.words(fileid)))\n",
    "    print(num_words, \"-\", fileid)"
   ]
  },
  {
   "cell_type": "markdown",
   "metadata": {},
   "source": [
    "And we can also use the following formula to calculate the total word count:"
   ]
  },
  {
   "cell_type": "code",
   "execution_count": 29,
   "metadata": {
    "collapsed": false
   },
   "outputs": [
    {
     "data": {
      "text/plain": [
       "9710"
      ]
     },
     "execution_count": 29,
     "metadata": {},
     "output_type": "execute_result"
    }
   ],
   "source": [
    "len(victorySpeeches.words())"
   ]
  },
  {
   "cell_type": "markdown",
   "metadata": {},
   "source": [
    "### 3.1. Averages"
   ]
  },
  {
   "cell_type": "markdown",
   "metadata": {},
   "source": [
    "We can calculate the **average length** of these addresses:"
   ]
  },
  {
   "cell_type": "code",
   "execution_count": 30,
   "metadata": {
    "collapsed": false
   },
   "outputs": [
    {
     "name": "stdout",
     "output_type": "stream",
     "text": [
      "809\n"
     ]
    }
   ],
   "source": [
    "# len(victorySpeeches.words()) is the total number of words in the collection\n",
    "# len(victorySpeeches.fileids()) is the total number of items/speeches\n",
    "averageLength = len(victorySpeeches.words())/len(victorySpeeches.fileids())\n",
    "print(round(averageLength))"
   ]
  },
  {
   "cell_type": "markdown",
   "metadata": {},
   "source": [
    "But given that Mrs. Thatcher statements, as described above, were not made in the form of public addresses like those of her counterparts, we should also do the math excluding her numbers.\n",
    "\n",
    "### Excluding items from the list\n",
    "\n",
    "We can use the regular expressions module (`re`) to target only the file names that include the word \"Thatcher\". Note that although some of these calculations can be simplified using nested functions we have preferred to assign some of them to variables to make the code more legible. The same goes for some of the print calls that have been included to visualise the results, rather than because they are necessary."
   ]
  },
  {
   "cell_type": "code",
   "execution_count": 31,
   "metadata": {
    "collapsed": false
   },
   "outputs": [
    {
     "name": "stdout",
     "output_type": "stream",
     "text": [
      "['1979 Thatcher.txt', '1983 Thatcher.txt', '1987 Thatcher.txt']\n"
     ]
    }
   ],
   "source": [
    "import re\n",
    "thatcherFileName = re.compile(\"\\w+\\s\\Thatcher.txt\")\n",
    "exclude = thatcherFileName.findall(str(victorySpeeches.fileids()))\n",
    "print(exclude)"
   ]
  },
  {
   "cell_type": "code",
   "execution_count": 32,
   "metadata": {
    "collapsed": false
   },
   "outputs": [
    {
     "name": "stdout",
     "output_type": "stream",
     "text": [
      "['1990 Major.txt', '1992 Major.txt', '1997 Blair.txt', '2001 Blair.txt', '2005 Blair.txt', '2007 Brown.txt', '2010 Cameron.txt', '2015 Cameron.txt', '2016 May.txt']\n"
     ]
    }
   ],
   "source": [
    "listOfSpeeches = victorySpeeches.fileids()\n",
    "excludingThatcher = [fileid for fileid in listOfSpeeches if fileid not in exclude]\n",
    "print(excludingThatcher)\n",
    "# This is the forum entry used as a reference to find how to exclude elements from a list\n",
    "# http://stackoverflow.com/questions/2793324/is-there-a-simple-way-to-delete-a-list-element-by-value-in-python"
   ]
  },
  {
   "cell_type": "markdown",
   "metadata": {},
   "source": [
    "Now we can use the new list to get a better idea of the average length of speeches as we wanted.\n",
    "\n",
    "When we tried to simply apply the same methods that we used above to our new list, we got an error because this list is not recognized by the program as a corpus. So we need to use PlainCorpusReader as before:"
   ]
  },
  {
   "cell_type": "code",
   "execution_count": 33,
   "metadata": {
    "collapsed": false
   },
   "outputs": [
    {
     "data": {
      "text/plain": [
       "['1990 Major.txt',\n",
       " '1992 Major.txt',\n",
       " '1997 Blair.txt',\n",
       " '2001 Blair.txt',\n",
       " '2005 Blair.txt',\n",
       " '2007 Brown.txt',\n",
       " '2010 Cameron.txt',\n",
       " '2015 Cameron.txt',\n",
       " '2016 May.txt']"
      ]
     },
     "execution_count": 33,
     "metadata": {},
     "output_type": "execute_result"
    }
   ],
   "source": [
    "allSpeechesButThatchers = PlaintextCorpusReader(corpus_root, excludingThatcher)\n",
    "allSpeechesButThatchers.fileids()"
   ]
  },
  {
   "cell_type": "markdown",
   "metadata": {},
   "source": [
    "The average word count for these would be:"
   ]
  },
  {
   "cell_type": "code",
   "execution_count": 34,
   "metadata": {
    "collapsed": false
   },
   "outputs": [
    {
     "data": {
      "text/plain": [
       "723"
      ]
     },
     "execution_count": 34,
     "metadata": {},
     "output_type": "execute_result"
    }
   ],
   "source": [
    "round(len(allSpeechesButThatchers.words())/len(allSpeechesButThatchers.fileids()))"
   ]
  },
  {
   "cell_type": "markdown",
   "metadata": {},
   "source": [
    "We can see that Thatcher's statements were skewing the results by some 100 words.\n",
    "\n",
    "Let's redo the word count again for this reduced sample:"
   ]
  },
  {
   "cell_type": "code",
   "execution_count": 35,
   "metadata": {
    "collapsed": false
   },
   "outputs": [
    {
     "name": "stdout",
     "output_type": "stream",
     "text": [
      "Words  Speech\n",
      "553 - 1990 Major.txt\n",
      "673 - 1992 Major.txt\n",
      "617 - 1997 Blair.txt\n",
      "939 - 2001 Blair.txt\n",
      "1091 - 2005 Blair.txt\n",
      "382 - 2007 Brown.txt\n",
      "707 - 2010 Cameron.txt\n",
      "770 - 2015 Cameron.txt\n",
      "776 - 2016 May.txt\n"
     ]
    }
   ],
   "source": [
    "print(\"Words  Speech\")\n",
    "for fileid in allSpeechesButThatchers.fileids():\n",
    "    num_words = len(allSpeechesButThatchers.words(fileid))\n",
    "    print(num_words, \"-\", fileid)"
   ]
  },
  {
   "cell_type": "markdown",
   "metadata": {},
   "source": [
    "### 3.2 Maximums and minimums: Sorting the data"
   ]
  },
  {
   "cell_type": "markdown",
   "metadata": {},
   "source": [
    "Now that we have a set of similar elements it makes more sense to explore the extremes (maximums and minimums) in our list.\n",
    "\n",
    "The list above has been created just by printing the results of the iteration through the elements in `allSpeechesButThatchers`, but it does not constitute an ordered set of elements that we can easily sort.\n",
    "\n",
    "To do that, we decided to include the elements in a list, as follows:"
   ]
  },
  {
   "cell_type": "code",
   "execution_count": 36,
   "metadata": {
    "collapsed": false
   },
   "outputs": [
    {
     "name": "stdout",
     "output_type": "stream",
     "text": [
      "Words  Speech\n",
      "[382, '2007 Brown.txt']\n",
      "[553, '1990 Major.txt']\n",
      "[617, '1997 Blair.txt']\n",
      "[673, '1992 Major.txt']\n",
      "[707, '2010 Cameron.txt']\n",
      "[770, '2015 Cameron.txt']\n",
      "[776, '2016 May.txt']\n",
      "[939, '2001 Blair.txt']\n",
      "[1091, '2005 Blair.txt']\n"
     ]
    }
   ],
   "source": [
    "print(\"Words  Speech\")\n",
    "unorderedlist = []\n",
    "for fileid in allSpeechesButThatchers.fileids():\n",
    "    num_words = len(allSpeechesButThatchers.words(fileid))\n",
    "    # The following line appends a pair of elements to the list, as a matrix, to make sure that both elements, the\n",
    "    # word count and the name of the file, are linked to each other\n",
    "    # See 5.1.4. Nested List Comprehensions, in Data Structures for Python 3.5.2\n",
    "    # https://docs.python.org/3/tutorial/datastructures.html\n",
    "    unorderedlist.append([num_words, fileid])\n",
    "sorted(unorderedlist)\n",
    "\n",
    "newlist = sorted(unorderedlist)\n",
    "\n",
    "for num_words in newlist:\n",
    "    print(num_words)"
   ]
  },
  {
   "cell_type": "markdown",
   "metadata": {},
   "source": [
    "We can see that the shortest speech was the one made by Gordon Brown in 2007, while the longest was Blair's in 2005.\n",
    "\n",
    "Another trend that can be observed is how **re-election speeches are always longer than the previous one**: Cameron's re-election speech (2015) was some 60 words longer than the one he made in his first election in 2010; the same for Major's speeches in 1990 and 1992; and Blair kept extending his from 600 words to 900, and then to almost 1,100."
   ]
  },
  {
   "cell_type": "markdown",
   "metadata": {},
   "source": [
    "## (4) Content analysis\n",
    "\n",
    "Although from a methodological perspective it is important not to lose sight that the sample selected for this project is very limited, and cannot therefore be used to say anything about the PMs or their parties beyond describing these inaugural ceremonies, there are a few elements that could be of relevance for a journalistic piece.\n",
    "\n",
    "We could, for instance analyse the following:\n",
    "\n",
    "1. Main topics mentioned\n",
    "2. Promises made and plans for the future\n",
    "3. Problems/challenges mentioned\n",
    "4. Who did the elected PM thank (if anyone)\n",
    "5. Mentions of the opposing parties/candidates\n",
    "6. What did they say about the country/the people\n",
    "\n",
    "These are general features based on the type of document we are faced with here, but others could emerge after a preliminary exploration.\n",
    "\n",
    "### 4.1. Finding clues\n",
    "\n",
    "Some of the elements above can be explored using the following methods:\n",
    "\n",
    "- A term frequency analysis could help to find common topics (1) and issues (3)\n",
    "\n",
    "- Searching for specific target words:\n",
    "\n",
    "    - markers of future tense formulations (*will, going to*) could be associated to promises, future plans (2)\n",
    "    - target words associated to the expression of gratitude (4) (*thank, grateful, gratitude*, etc.)\n",
    "    - search for specific party names (5)\n",
    "    - search for words connected to the concept of nation (British, Britain, UK, people, etc.) (6)\n",
    "    \n",
    "The word tally per PM could also help to detect distinctive characteristics that could be included in our final comparative visualisation - although the most important would be to find categories where parallelisms can be shown across different PMs.\n",
    "\n",
    "### 4.1.2 Frequently used words\n",
    "\n",
    "We can start then tallying the words used in each speech.\n",
    "\n",
    "The following piece of script will turn the words contained in each file into a list of words contained in the variables we have created here:"
   ]
  },
  {
   "cell_type": "code",
   "execution_count": 51,
   "metadata": {
    "collapsed": false
   },
   "outputs": [],
   "source": [
    "from nltk import word_tokenize\n",
    "\n",
    "may2016 = nltk.Text(victorySpeeches.words('2016 May.txt'))\n",
    "cameron2015 = nltk.Text(victorySpeeches.words('2015 Cameron.txt'))\n",
    "cameron2010 = nltk.Text(victorySpeeches.words('2010 Cameron.txt'))\n",
    "brown2007 = nltk.Text(victorySpeeches.words('2007 Brown.txt'))\n",
    "blair2005 = nltk.Text(victorySpeeches.words('2005 Blair.txt'))\n",
    "blair2001 = nltk.Text(victorySpeeches.words('2001 Blair.txt'))\n",
    "blair1997 = nltk.Text(victorySpeeches.words('1997 Blair.txt'))\n",
    "major1990 = nltk.Text(victorySpeeches.words('1990 Major.txt'))\n",
    "major1992 = nltk.Text(victorySpeeches.words('1992 Major.txt'))\n",
    "thatcher1987 = nltk.Text(victorySpeeches.words('1987 Thatcher.txt'))\n",
    "thatcher1983 = nltk.Text(victorySpeeches.words('1983 Thatcher.txt'))\n",
    "thatcher1979 = nltk.Text(victorySpeeches.words('1979 Thatcher.txt'))"
   ]
  },
  {
   "cell_type": "markdown",
   "metadata": {},
   "source": [
    "For the wordcount, we will use the following functions:"
   ]
  },
  {
   "cell_type": "code",
   "execution_count": 52,
   "metadata": {
    "collapsed": false
   },
   "outputs": [],
   "source": [
    "# First we clean the text transforming it to lower case and removing stop words and punctuation  \n",
    "# Code adapted from example at \n",
    "# https://github.com/DistrictDataLabs/intro-to-nltk/blob/master/exercises/classification/products.py\n",
    "from nltk import *\n",
    "import string\n",
    "\n",
    "def normalize_words(speech):\n",
    "    stopwords  = set(nltk.corpus.stopwords.words('english'))\n",
    "    lemmatizer = nltk.stem.wordnet.WordNetLemmatizer()\n",
    "    for token in speech:\n",
    "        token = token.lower()\n",
    "        if token in string.punctuation: continue\n",
    "        if token in stopwords: continue\n",
    "        yield lemmatizer.lemmatize(token)\n",
    "        \n",
    "# And then we use the following function to count the words\n",
    "# Code adapted from a post by a forum contributor in StackOverflow: \n",
    "# http://stackoverflow.com/questions/21107505/python-word-count-from-a-txt-file-program\n",
    "\n",
    "def wordcount(speech):\n",
    "    wordcount={}\n",
    "    cleanText = normalize_words(speech)\n",
    "    for word in cleanText:\n",
    "        if word not in wordcount:\n",
    "            wordcount[word] = 1\n",
    "        else:\n",
    "            wordcount[word] += 1\n",
    "    for k,v in wordcount.items():\n",
    "        if v > 3:\n",
    "            print(k, v)\n",
    "\n",
    "# We did a test and 2 repetitions were too common, so we decided we only wanted words that had been used\n",
    "# 3 or more times ( v > 2 )"
   ]
  },
  {
   "cell_type": "markdown",
   "metadata": {},
   "source": [
    "**Most common words in May's speech**"
   ]
  },
  {
   "cell_type": "code",
   "execution_count": 53,
   "metadata": {
    "collapsed": false
   },
   "outputs": [
    {
     "name": "stdout",
     "output_type": "stream",
     "text": [
      "’ 29\n",
      "britain 5\n",
      "know 5\n",
      "government 5\n",
      "one 4\n",
      "mean 5\n",
      "david 4\n"
     ]
    }
   ],
   "source": [
    "wordcount(may2016)"
   ]
  },
  {
   "cell_type": "markdown",
   "metadata": {},
   "source": [
    "**Most common words in Cameron's speech**"
   ]
  },
  {
   "cell_type": "code",
   "execution_count": 54,
   "metadata": {
    "collapsed": false
   },
   "outputs": [
    {
     "name": "stdout",
     "output_type": "stream",
     "text": [
      "scotland 4\n",
      "future 5\n",
      "indeed 4\n",
      "life 4\n",
      "nation 4\n",
      "’ 8\n",
      "country 7\n",
      "government 10\n",
      "make 4\n",
      "people 7\n",
      "united 5\n",
      "chance 4\n",
      "year 4\n",
      "mean 7\n",
      "kingdom 5\n"
     ]
    }
   ],
   "source": [
    "wordcount(cameron2015)"
   ]
  },
  {
   "cell_type": "markdown",
   "metadata": {},
   "source": [
    "**Most common words in Cameron's speech**"
   ]
  },
  {
   "cell_type": "code",
   "execution_count": 55,
   "metadata": {
    "collapsed": false
   },
   "outputs": [
    {
     "name": "stdout",
     "output_type": "stream",
     "text": [
      "work 5\n",
      "believe 5\n",
      "value 5\n",
      "together 5\n",
      "responsibility 4\n",
      "government 11\n",
      "one 4\n",
      "political 4\n",
      "country 9\n",
      "want 6\n",
      "need 6\n",
      "difficult 4\n"
     ]
    }
   ],
   "source": [
    "wordcount(cameron2010)"
   ]
  },
  {
   "cell_type": "markdown",
   "metadata": {},
   "source": [
    "**Most common words in Blair's speech**"
   ]
  },
  {
   "cell_type": "code",
   "execution_count": 56,
   "metadata": {
    "collapsed": false
   },
   "outputs": [
    {
     "name": "stdout",
     "output_type": "stream",
     "text": [
      "learnt 4\n",
      "today 4\n",
      "issue 7\n",
      "third 4\n",
      "many 7\n",
      "work 6\n",
      "first 4\n",
      "like 5\n",
      "public 4\n",
      "well 4\n",
      "know 8\n",
      "service 4\n",
      "government 7\n",
      "focus 7\n",
      "u 7\n",
      "also 6\n",
      "family 4\n",
      "people 23\n",
      "value 4\n",
      "priority 5\n",
      "want 13\n",
      "investment 4\n",
      "believe 5\n"
     ]
    }
   ],
   "source": [
    "wordcount(blair2005)"
   ]
  },
  {
   "cell_type": "markdown",
   "metadata": {},
   "source": [
    "**Most common words in Blair's speech**"
   ]
  },
  {
   "cell_type": "code",
   "execution_count": 57,
   "metadata": {
    "collapsed": false
   },
   "outputs": [
    {
     "name": "stdout",
     "output_type": "stream",
     "text": [
      "future 4\n",
      "clearly 4\n",
      "system 5\n",
      "believe 4\n",
      "must 4\n",
      "country 5\n",
      "need 10\n",
      "change 9\n",
      "work 4\n",
      "make 4\n",
      "people 7\n"
     ]
    }
   ],
   "source": [
    "wordcount(blair2001)"
   ]
  },
  {
   "cell_type": "markdown",
   "metadata": {},
   "source": [
    "**Most common words in Blair's speech**"
   ]
  },
  {
   "cell_type": "code",
   "execution_count": 58,
   "metadata": {
    "collapsed": false
   },
   "outputs": [
    {
     "name": "stdout",
     "output_type": "stream",
     "text": [
      "today 5\n",
      "value 5\n",
      "country 6\n",
      "new 10\n",
      "labour 8\n",
      "government 11\n",
      "one 4\n",
      "people 6\n",
      "-- 7\n",
      "mandate 4\n"
     ]
    }
   ],
   "source": [
    "wordcount(blair1997)"
   ]
  },
  {
   "cell_type": "markdown",
   "metadata": {},
   "source": [
    "**Most common words in Major's speech**"
   ]
  },
  {
   "cell_type": "code",
   "execution_count": 59,
   "metadata": {
    "collapsed": false
   },
   "outputs": [
    {
     "name": "stdout",
     "output_type": "stream",
     "text": [
      "hope 5\n",
      "party 5\n",
      "country 6\n",
      "year 8\n"
     ]
    }
   ],
   "source": [
    "wordcount(major1990)"
   ]
  },
  {
   "cell_type": "markdown",
   "metadata": {},
   "source": [
    "**Most common words in Thatcher's speech**"
   ]
  },
  {
   "cell_type": "code",
   "execution_count": 60,
   "metadata": {
    "collapsed": false
   },
   "outputs": [
    {
     "name": "stdout",
     "output_type": "stream",
     "text": [
      "look 4\n",
      "work 4\n",
      "inner 5\n",
      "get 7\n",
      "city 6\n",
      "go 5\n",
      "got 6\n",
      "well 4\n",
      "know 8\n",
      "hope 4\n",
      "one 5\n",
      "course 4\n",
      "manifesto 5\n",
      "people 14\n",
      "shall 4\n",
      "— 5\n",
      "legislation 4\n",
      "militant 4\n",
      "would 4\n",
      "money 4\n",
      "way 8\n"
     ]
    }
   ],
   "source": [
    "wordcount(thatcher1987)"
   ]
  },
  {
   "cell_type": "markdown",
   "metadata": {},
   "source": [
    "**Most common words in Thatcher's speech**"
   ]
  },
  {
   "cell_type": "code",
   "execution_count": 61,
   "metadata": {
    "collapsed": false
   },
   "outputs": [
    {
     "name": "stdout",
     "output_type": "stream",
     "text": [
      "much 6\n",
      "system 8\n",
      "election 5\n",
      "cabinet 4\n",
      "get 5\n",
      "must 5\n",
      "well 4\n",
      "got 4\n",
      "party 9\n",
      "clear 7\n",
      "quite 6\n",
      "change 6\n",
      "know 5\n",
      "labour 6\n",
      "victory 4\n",
      "government 11\n",
      "fragmentation 4\n",
      "given 4\n",
      "hope 4\n",
      "one 6\n",
      "last 4\n",
      "make 4\n",
      "bill 6\n",
      "course 5\n",
      "manifesto 4\n",
      "session 4\n",
      "people 14\n",
      "difficult 4\n",
      "always 4\n",
      "time 8\n",
      "thank 9\n",
      "thing 7\n",
      "decisive 5\n",
      "... 8\n",
      "mean 4\n",
      "another 6\n",
      "put 6\n",
      "coming 4\n",
      "first 5\n",
      "think 9\n"
     ]
    }
   ],
   "source": [
    "wordcount(thatcher1983)"
   ]
  },
  {
   "cell_type": "markdown",
   "metadata": {},
   "source": [
    "**Most common words in Thatcher's speech**"
   ]
  },
  {
   "cell_type": "code",
   "execution_count": 62,
   "metadata": {
    "collapsed": false
   },
   "outputs": [
    {
     "name": "stdout",
     "output_type": "stream",
     "text": [
      "bring 5\n",
      "believe 4\n",
      "thing 7\n",
      "well 4\n",
      "… 6\n",
      "may 7\n"
     ]
    }
   ],
   "source": [
    "wordcount(thatcher1979)"
   ]
  },
  {
   "cell_type": "markdown",
   "metadata": {},
   "source": [
    "We can also use the victorySpeech corpus to find the most common words in all the speeches combined: "
   ]
  },
  {
   "cell_type": "code",
   "execution_count": 63,
   "metadata": {
    "collapsed": false
   },
   "outputs": [
    {
     "data": {
      "text/plain": [
       "[('I', 229),\n",
       " ('people', 92),\n",
       " ('government', 53),\n",
       " ('country', 51),\n",
       " ('’', 43),\n",
       " ('And', 40),\n",
       " ('We', 32),\n",
       " ('want', 31),\n",
       " ('It', 29),\n",
       " ('believe', 29),\n",
       " ('one', 27),\n",
       " ('know', 27),\n",
       " ('work', 27),\n",
       " ('make', 26),\n",
       " ('new', 25),\n",
       " ('us', 24),\n",
       " ('years', 23),\n",
       " ('change', 22),\n",
       " ('get', 20),\n",
       " ('think', 19),\n",
       " ('But', 19),\n",
       " ('system', 19),\n",
       " ('way', 18),\n",
       " ('build', 18),\n",
       " ('need', 18),\n",
       " ('future', 17),\n",
       " ('That', 17),\n",
       " ('Britain', 17),\n",
       " ('course', 17),\n",
       " ('also', 16),\n",
       " ('must', 16),\n",
       " ('means', 16),\n",
       " ('well', 16),\n",
       " ('hope', 16),\n",
       " ('Labour', 15),\n",
       " ('things', 15),\n",
       " ('much', 15),\n",
       " ('life', 15),\n",
       " ('first', 14),\n",
       " ('values', 14),\n",
       " ('election', 14),\n",
       " ('shall', 14),\n",
       " ('bring', 14),\n",
       " ('say', 14),\n",
       " ('clear', 13),\n",
       " ('time', 13),\n",
       " ('opportunity', 13),\n",
       " ('The', 13),\n",
       " ('form', 12),\n",
       " ('world', 12)]"
      ]
     },
     "execution_count": 63,
     "metadata": {},
     "output_type": "execute_result"
    }
   ],
   "source": [
    "from nltk.corpus import stopwords\n",
    "# We first use a list comprehension to eliminate all the stop words from our corpus:\n",
    "speechesWithoutStopwords = [word for word in victorySpeeches.words() if word not in stopwords.words('english')]\n",
    "speechesWithoutStopwords2 = [word for word in speechesWithoutStopwords if word not in string.punctuation]\n",
    "\n",
    "# And then use the FreqDist function and the most_common() method to get the most common occurrences (50 in this case) \n",
    "FreqDist(speechesWithoutStopwords2).most_common(50)"
   ]
  },
  {
   "cell_type": "markdown",
   "metadata": {},
   "source": [
    "### Common bigrams\n",
    "\n",
    "We can also explore common word pairs or combinations, using the collocations method to find collocations in the texts, which are defined as \"frequent bigrams,\" that are more common than the individual occurrences of the individual terms (NLTK 3.0 Documentation 2015).\n",
    "\n",
    "Concepts for collocations outside the NLTK framework include “an arbitrary and recurrent word combination” (Benson 1990 cited by Indurkhya and Damerau 2010), and also \"a statistically idiomatic MWE (esp. of high frequency) (...) often distinguished from “idioms” or “non-compositional phrases” on the grounds that they are not syntactically idiomatic (Indurkhya and Damerau 2010).\n",
    "\n",
    "We can easily find the collocations for each speech using a comprehensive list:"
   ]
  },
  {
   "cell_type": "code",
   "execution_count": 77,
   "metadata": {
    "collapsed": false
   },
   "outputs": [
    {
     "name": "stdout",
     "output_type": "stream",
     "text": [
      "less likely; David Cameron; every one; make Britain\n",
      "United Kingdom; different nations; public service; better future;\n",
      "means giving; majority government\n",
      "difficult decisions; political system; public service; country needs;\n",
      "new government\n",
      "British people\n",
      "public services; third term; divisive issue; British people; people\n",
      "want; also learnt; also know; many people\n",
      "would like; criminal justice; four years; laid foundations; justice\n",
      "system\n",
      "Labour Government; New Labour; new Labour\n",
      "Downing Street; General Election; Health Service; National Health;\n",
      "make sure\n",
      "Conservative Party; years ago\n",
      "inner cities; Prime Minister; front door; increasing number\n",
      "new look; last session; Prime Minister; start afresh; Labour Party;\n",
      "extreme left; world recession; weak government; given clear; keep\n",
      "people; first time\n",
      "British people\n"
     ]
    }
   ],
   "source": [
    "# We create this list containing all the speeches\n",
    "speech = [may2016, cameron2015, cameron2010, brown2007, blair2005, blair2001, blair1997, major1992, major1990, thatcher1987, thatcher1983, thatcher1979]\n",
    "\n",
    "# and then we apply the collocations method to each of its items:\n",
    "collocations = [items.collocations() for items in speech]\n"
   ]
  },
  {
   "cell_type": "markdown",
   "metadata": {},
   "source": [
    "This method was fast, but it's hard to identify which speech is which as we advance through the list. It would be convenient to print the file id by each collocation, but unfortunately Python does not provide an easy way to do this.\n",
    "\n",
    "For the purpose of clarity we could break down this into independent calculations:"
   ]
  },
  {
   "cell_type": "code",
   "execution_count": 78,
   "metadata": {
    "collapsed": false
   },
   "outputs": [
    {
     "name": "stdout",
     "output_type": "stream",
     "text": [
      "less likely; David Cameron; every one; make Britain\n"
     ]
    }
   ],
   "source": [
    "may2016.collocations()"
   ]
  },
  {
   "cell_type": "code",
   "execution_count": 79,
   "metadata": {
    "collapsed": false
   },
   "outputs": [
    {
     "name": "stdout",
     "output_type": "stream",
     "text": [
      "United Kingdom; different nations; public service; better future;\n",
      "means giving; majority government\n"
     ]
    }
   ],
   "source": [
    "cameron2015.collocations()"
   ]
  },
  {
   "cell_type": "code",
   "execution_count": 80,
   "metadata": {
    "collapsed": false
   },
   "outputs": [
    {
     "name": "stdout",
     "output_type": "stream",
     "text": [
      "difficult decisions; political system; public service; country needs;\n",
      "new government\n"
     ]
    }
   ],
   "source": [
    "cameron2010.collocations()"
   ]
  },
  {
   "cell_type": "code",
   "execution_count": 68,
   "metadata": {
    "collapsed": false
   },
   "outputs": [
    {
     "name": "stdout",
     "output_type": "stream",
     "text": [
      "British people\n"
     ]
    }
   ],
   "source": [
    "brown2007.collocations()"
   ]
  },
  {
   "cell_type": "code",
   "execution_count": 69,
   "metadata": {
    "collapsed": false
   },
   "outputs": [
    {
     "name": "stdout",
     "output_type": "stream",
     "text": [
      "public services; third term; divisive issue; British people; people\n",
      "want; also learnt; also know; many people\n"
     ]
    }
   ],
   "source": [
    "blair2005.collocations()"
   ]
  },
  {
   "cell_type": "code",
   "execution_count": 70,
   "metadata": {
    "collapsed": false
   },
   "outputs": [
    {
     "name": "stdout",
     "output_type": "stream",
     "text": [
      "would like; criminal justice; four years; laid foundations; justice\n",
      "system\n"
     ]
    }
   ],
   "source": [
    "blair2001.collocations()"
   ]
  },
  {
   "cell_type": "code",
   "execution_count": 71,
   "metadata": {
    "collapsed": false
   },
   "outputs": [
    {
     "name": "stdout",
     "output_type": "stream",
     "text": [
      "Labour Government; New Labour; new Labour\n"
     ]
    }
   ],
   "source": [
    "blair1997.collocations()"
   ]
  },
  {
   "cell_type": "code",
   "execution_count": 72,
   "metadata": {
    "collapsed": false
   },
   "outputs": [
    {
     "name": "stdout",
     "output_type": "stream",
     "text": [
      "Downing Street; General Election; Health Service; National Health;\n",
      "make sure\n"
     ]
    }
   ],
   "source": [
    "major1992.collocations()"
   ]
  },
  {
   "cell_type": "code",
   "execution_count": 73,
   "metadata": {
    "collapsed": false
   },
   "outputs": [
    {
     "name": "stdout",
     "output_type": "stream",
     "text": [
      "Conservative Party; years ago\n"
     ]
    }
   ],
   "source": [
    "major1990.collocations()"
   ]
  },
  {
   "cell_type": "code",
   "execution_count": 74,
   "metadata": {
    "collapsed": false
   },
   "outputs": [
    {
     "name": "stdout",
     "output_type": "stream",
     "text": [
      "inner cities; Prime Minister; front door; increasing number\n"
     ]
    }
   ],
   "source": [
    "thatcher1987.collocations()"
   ]
  },
  {
   "cell_type": "code",
   "execution_count": 75,
   "metadata": {
    "collapsed": false
   },
   "outputs": [
    {
     "name": "stdout",
     "output_type": "stream",
     "text": [
      "new look; last session; Prime Minister; start afresh; Labour Party;\n",
      "extreme left; world recession; weak government; given clear; keep\n",
      "people; first time\n"
     ]
    }
   ],
   "source": [
    "thatcher1983.collocations()"
   ]
  },
  {
   "cell_type": "code",
   "execution_count": 76,
   "metadata": {
    "collapsed": false
   },
   "outputs": [
    {
     "name": "stdout",
     "output_type": "stream",
     "text": [
      "British people\n"
     ]
    }
   ],
   "source": [
    "thatcher1979.collocations()"
   ]
  },
  {
   "cell_type": "markdown",
   "metadata": {},
   "source": [
    "### 4.1.3. Finding promises\n",
    "\n",
    "There are a series of cues that can be used to find certain types of content in our texts. In the cases of the promises that made it to the inaugural speeches we can start trying grammatical markers for the future tense, such as *going to, will, future*, etc.\n",
    "\n",
    "The `concordance` method (which only takes one argument at the time) will help us quickly visualise them all in one place:"
   ]
  },
  {
   "cell_type": "code",
   "execution_count": 81,
   "metadata": {
    "collapsed": false
   },
   "outputs": [
    {
     "name": "stdout",
     "output_type": "stream",
     "text": [
      "Displaying 11 of 11 matches:\n",
      "e that , if you ’ re born poor , you will die on average 9 years earlier than \n",
      "rivately . If you ’ re a woman , you will earn less than a man . If you suffer\n",
      "e a struggle . The government I lead will be driven not by the interests of th\n",
      "e privileged few , but by yours . We will do everything we can to give you mor\n",
      "advantages of the fortunate few . We will do everything we can to help anybody\n",
      "round , to go as far as your talents will take you . We are living through an \n",
      "ause we ’ re Great Britain , that we will rise to the challenge . As we leave \n",
      " As we leave the European Union , we will forge a bold new positive role for o\n",
      " for ourselves in the world , and we will make Britain a country that works no\n",
      "few , but for every one of us . That will be the mission of the government I l\n",
      " government I lead , and together we will build a better Britain .\n"
     ]
    }
   ],
   "source": [
    "may2016.concordance(\"will\")"
   ]
  },
  {
   "cell_type": "code",
   "execution_count": 97,
   "metadata": {
    "collapsed": false
   },
   "outputs": [
    {
     "name": "stdout",
     "output_type": "stream",
     "text": [
      "No matches\n"
     ]
    }
   ],
   "source": [
    "may2016.concordance(\"going\")"
   ]
  },
  {
   "cell_type": "code",
   "execution_count": 98,
   "metadata": {
    "collapsed": false
   },
   "outputs": [
    {
     "name": "stdout",
     "output_type": "stream",
     "text": [
      "No matches\n"
     ]
    }
   ],
   "source": [
    "may2016.concordance(\"future\")"
   ]
  },
  {
   "cell_type": "code",
   "execution_count": 99,
   "metadata": {
    "collapsed": false
   },
   "outputs": [
    {
     "name": "stdout",
     "output_type": "stream",
     "text": [
      "No matches\n"
     ]
    }
   ],
   "source": [
    "may2016.concordance(\"promise\")"
   ]
  },
  {
   "cell_type": "code",
   "execution_count": 100,
   "metadata": {
    "collapsed": false
   },
   "outputs": [
    {
     "name": "stdout",
     "output_type": "stream",
     "text": [
      "No matches\n"
     ]
    }
   ],
   "source": [
    "may2016.concordance(\"determined\")"
   ]
  },
  {
   "cell_type": "code",
   "execution_count": 101,
   "metadata": {
    "collapsed": false
   },
   "outputs": [
    {
     "name": "stdout",
     "output_type": "stream",
     "text": [
      "No matches\n"
     ]
    }
   ],
   "source": [
    "may2016.concordance(\"hope\")"
   ]
  },
  {
   "cell_type": "markdown",
   "metadata": {},
   "source": [
    "A fast way to evaluate several terms for different speeches would be to use a function:"
   ]
  },
  {
   "cell_type": "code",
   "execution_count": 87,
   "metadata": {
    "collapsed": false
   },
   "outputs": [],
   "source": [
    "def futureMarkers(speech):\n",
    "    print(\"Matches for WILL\")\n",
    "    speech.concordance(\"will\")\n",
    "    print(\"\")\n",
    "    print(\"Matches for GOING\")\n",
    "    speech.concordance(\"going\")\n",
    "    print(\"\")\n",
    "    print(\"Matches for DETERMINED\")\n",
    "    speech.concordance(\"determined\")\n",
    "    print(\"\")\n",
    "    print(\"Matches for FUTURE\")\n",
    "    speech.concordance(\"future\")\n",
    "    print(\"\")\n",
    "    print(\"Matches for PROMISE\")\n",
    "    speech.concordance(\"promise\")\n",
    "    print(\"\")\n",
    "    print(\"Matches for HOPE\")\n",
    "    speech.concordance(\"hope\")   \n"
   ]
  },
  {
   "cell_type": "code",
   "execution_count": 88,
   "metadata": {
    "collapsed": false
   },
   "outputs": [
    {
     "name": "stdout",
     "output_type": "stream",
     "text": [
      "Matches for WILL\n",
      "Displaying 11 of 11 matches:\n",
      "e that , if you ’ re born poor , you will die on average 9 years earlier than \n",
      "rivately . If you ’ re a woman , you will earn less than a man . If you suffer\n",
      "e a struggle . The government I lead will be driven not by the interests of th\n",
      "e privileged few , but by yours . We will do everything we can to give you mor\n",
      "advantages of the fortunate few . We will do everything we can to help anybody\n",
      "round , to go as far as your talents will take you . We are living through an \n",
      "ause we ’ re Great Britain , that we will rise to the challenge . As we leave \n",
      " As we leave the European Union , we will forge a bold new positive role for o\n",
      " for ourselves in the world , and we will make Britain a country that works no\n",
      "few , but for every one of us . That will be the mission of the government I l\n",
      " government I lead , and together we will build a better Britain .\n",
      "\n",
      "Matches for GOING\n",
      "No matches\n",
      "\n",
      "Matches for DETERMINED\n",
      "No matches\n",
      "\n",
      "Matches for FUTURE\n",
      "No matches\n",
      "\n",
      "Matches for PROMISE\n",
      "No matches\n",
      "\n",
      "Matches for HOPE\n",
      "No matches\n"
     ]
    }
   ],
   "source": [
    "futureMarkers(may2016)"
   ]
  },
  {
   "cell_type": "code",
   "execution_count": 89,
   "metadata": {
    "collapsed": false
   },
   "outputs": [
    {
     "name": "stdout",
     "output_type": "stream",
     "text": [
      "Matches for WILL\n",
      "Displaying 7 of 7 matches:\n",
      "                                     will now form a majority Conservative gov\n",
      "le , and as a majority government we will be able to deliver all of it ; indee\n",
      "ce of a better future . And yes , we will deliver that in / out referendum on \n",
      "the small hours of this morning , we will govern as a party of one nation , on\n",
      "nited Kingdom . In this Parliament I will stay true to my word and implement a\n",
      "s , the governments of these nations will become more powerful , with wider re\n",
      "n . And no constitutional settlement will be complete , if it did not offer , \n",
      "\n",
      "Matches for GOING\n",
      "No matches\n",
      "\n",
      "Matches for DETERMINED\n",
      "No matches\n",
      "\n",
      "Matches for FUTURE\n",
      "Displaying 5 of 5 matches:\n",
      "t laid the foundations for a better future , and now we must build on them . I\n",
      " give people the chance of a better future . And yes , we will deliver that in\n",
      "ver that in / out referendum on our future in Europe . As we conduct this vita\n",
      "training , a job , and hope for the future . It means that for children who do\n",
      "history , and build an even prouder future . Together we can make Great Britai\n",
      "\n",
      "Matches for PROMISE\n",
      "No matches\n",
      "\n",
      "Matches for HOPE\n",
      "Displaying 1 of 1 matches:\n",
      "the chance of training , a job , and hope for the future . It means that for c\n"
     ]
    }
   ],
   "source": [
    "futureMarkers(cameron2015)"
   ]
  },
  {
   "cell_type": "code",
   "execution_count": 90,
   "metadata": {
    "collapsed": false
   },
   "outputs": [
    {
     "name": "stdout",
     "output_type": "stream",
     "text": [
      "Matches for WILL\n",
      "Displaying 4 of 4 matches:\n",
      "an should , and those who can ' t we will always help . I want to make sure th\n",
      "cisions we have ahead . Above all it will be a government that is built on som\n",
      "ard and difficult work . A coalition will throw up all sorts of challenges . B\n",
      " are the things that this government will now start work on doing . Thank you \n",
      "\n",
      "Matches for GOING\n",
      "Displaying 1 of 1 matches:\n",
      " and look up to once again . This is going to be hard and difficult work . A co\n",
      "\n",
      "Matches for DETERMINED\n",
      "No matches\n",
      "\n",
      "Matches for FUTURE\n",
      "Displaying 1 of 1 matches:\n",
      "ed public service . In terms of the future , our country has a hung parliament\n",
      "\n",
      "Matches for PROMISE\n",
      "No matches\n",
      "\n",
      "Matches for HOPE\n",
      "No matches\n"
     ]
    }
   ],
   "source": [
    "futureMarkers(cameron2010)"
   ]
  },
  {
   "cell_type": "code",
   "execution_count": 91,
   "metadata": {
    "collapsed": false
   },
   "outputs": [
    {
     "name": "stdout",
     "output_type": "stream",
     "text": [
      "Matches for WILL\n",
      "Displaying 10 of 10 matches:\n",
      " me to form a new government which I will do . It ' s a tremendous honour and \n",
      "ear what people want us to do and we will do it . Secondly , in relation to th\n",
      "tment we ' re putting in . And so we will focus on delivering not just the inv\n",
      "nge in those public services . And I will do so with passion because I want to\n",
      " expect us to sort these issues - we will do so . Fourth , I ' ve also learnt \n",
      "ey expect us to sort them out and we will do so . And fifth , I ' ve been stru\n",
      "r villages . And arising out of that will be a radical programme of legislatio\n",
      "adical programme of legislation that will focus exactly on those priorities ; \n",
      "e in the international agenda and we will focus on those ; on poverty in Afric\n",
      "lieve in , the values our government will believe in . Thank you .\n",
      "\n",
      "Matches for GOING\n",
      "Displaying 1 of 1 matches:\n",
      "y that I - we - the government , are going to focus relentlessly now on the pri\n",
      "\n",
      "Matches for DETERMINED\n",
      "No matches\n",
      "\n",
      "Matches for FUTURE\n",
      "Displaying 2 of 2 matches:\n",
      "e and skills and technology for the future . It is very clear what people want\n",
      "move on ; they want to focus on the future in Iraq and here . And I know too t\n",
      "\n",
      "Matches for PROMISE\n",
      "No matches\n",
      "\n",
      "Matches for HOPE\n",
      "No matches\n"
     ]
    }
   ],
   "source": [
    "futureMarkers(blair2005)"
   ]
  },
  {
   "cell_type": "code",
   "execution_count": 92,
   "metadata": {
    "collapsed": false
   },
   "outputs": [
    {
     "name": "stdout",
     "output_type": "stream",
     "text": [
      "Matches for WILL\n",
      "Displaying 3 of 3 matches:\n",
      "work our way through them and that I will try to do . So in the course of the \n",
      "at into isolationism . These changes will not be easy . But Britain is a very \n",
      "n the few weeks of this campaign and will try to set out again in the years to\n",
      "\n",
      "Matches for GOING\n",
      "No matches\n",
      "\n",
      "Matches for DETERMINED\n",
      "No matches\n",
      "\n",
      "Matches for FUTURE\n",
      "Displaying 4 of 4 matches:\n",
      "sh him the very best of luck in the future . It has been a remarkable and hist\n",
      "or reform and for investment in the future and it is also very clearly an inst\n",
      "o start building the economy of the future based on skills and talents and edu\n",
      "nowing that for this country in the future the forces of global competition an\n",
      "\n",
      "Matches for PROMISE\n",
      "No matches\n",
      "\n",
      "Matches for HOPE\n",
      "Displaying 1 of 1 matches:\n",
      "years as prime minister . I have , I hope , learnt from the mistakes as well a\n"
     ]
    }
   ],
   "source": [
    "futureMarkers(blair2001)"
   ]
  },
  {
   "cell_type": "code",
   "execution_count": 93,
   "metadata": {
    "collapsed": false
   },
   "outputs": [
    {
     "name": "stdout",
     "output_type": "stream",
     "text": [
      "Matches for WILL\n",
      "Displaying 5 of 5 matches:\n",
      "we ran for office as New Labour , we will govern as New Labour . This is not a\n",
      "ure . And this new Labour government will govern in the interests of all our p\n",
      " it for a modern world , and that we will also do . We will work in partnershi\n",
      "orld , and that we will also do . We will work in partnership with business to\n",
      "ely new century and new age . And it will be a government that seeks to restor\n",
      "\n",
      "Matches for GOING\n",
      "No matches\n",
      "\n",
      "Matches for DETERMINED\n",
      "No matches\n",
      "\n",
      "Matches for FUTURE\n",
      "Displaying 2 of 2 matches:\n",
      "that desperately need doing for the future . And this new Labour government wi\n",
      "my , the competitive economy of the future . The one that can meet the challen\n",
      "\n",
      "Matches for PROMISE\n",
      "Displaying 1 of 1 matches:\n",
      "e whole of this nation . That I can promise you . When I became leader of the L\n",
      "\n",
      "Matches for HOPE\n",
      "Displaying 1 of 1 matches:\n",
      "decentralizes it , that gives people hope once again that politics is and alwa\n"
     ]
    }
   ],
   "source": [
    "futureMarkers(blair1997)"
   ]
  },
  {
   "cell_type": "code",
   "execution_count": 94,
   "metadata": {
    "collapsed": false
   },
   "outputs": [
    {
     "name": "stdout",
     "output_type": "stream",
     "text": [
      "Matches for WILL\n",
      "Displaying 13 of 13 matches:\n",
      " I hope in the next few years that I will be able to prove that that trust is \n",
      " Margaret Thatcher . I think history will record that she was a towering Prime\n",
      " society in which what people fulfil will depend upon their talent , their app\n",
      "increasingly in the future that that will be the case . I believe very firmly \n",
      "eve very firmly in the 1990s that we will have a decade of the most remarkable\n",
      "nd development in which this country will play a full and leading role . In th\n",
      " smile on the face of the Party that will mean we are fully united for the fut\n",
      "I hope in the next few years that we will carry on with much of the work that \n",
      "izens . I do not promise you that it will be easy and I do not promise you tha\n",
      "asy and I do not promise you that it will be quick , but I believe it is an im\n",
      "ly worthwhile job to do . Because it will be neither easy nor quick , if you w\n",
      "l be neither easy nor quick , if you will forgive me , I will go into Number 1\n",
      "r quick , if you will forgive me , I will go into Number 10 straight away and \n",
      "\n",
      "Matches for GOING\n",
      "No matches\n",
      "\n",
      "Matches for DETERMINED\n",
      "No matches\n",
      "\n",
      "Matches for FUTURE\n",
      "Displaying 3 of 3 matches:\n",
      "ings and I hope increasingly in the future that that will be the case . I beli\n",
      "the Party can remain united for the future . There is no ill - feeling at the \n",
      "ll mean we are fully united for the future . I hope in the next few years that\n",
      "\n",
      "Matches for PROMISE\n",
      "Displaying 2 of 2 matches:\n",
      "ife for all our citizens . I do not promise you that it will be easy and I do n\n",
      "u that it will be easy and I do not promise you that it will be quick , but I b\n",
      "\n",
      "Matches for HOPE\n",
      "Displaying 5 of 5 matches:\n",
      "y people up and down the country . I hope in the next few years that I will be\n",
      "an she found it eleven years ago . I hope in the next few years to build on th\n",
      " on those achievements . I certainly hope in those years to build a society of\n",
      "particularly upon those things and I hope increasingly in the future that that\n",
      " are fully united for the future . I hope in the next few years that we will c\n"
     ]
    }
   ],
   "source": [
    "futureMarkers(major1990)"
   ]
  },
  {
   "cell_type": "markdown",
   "metadata": {},
   "source": [
    "### 4.1.4. National references\n",
    "\n",
    "We could follow a similar procedure to find terms semantically associated to the nation and its people, but unlike the markers we saw above, "
   ]
  },
  {
   "cell_type": "code",
   "execution_count": 95,
   "metadata": {
    "collapsed": false
   },
   "outputs": [
    {
     "data": {
      "image/png": "[encoded data removed]",
      "text/plain": [
       "<matplotlib.figure.Figure at 0xdcf9128>"
      ]
     },
     "metadata": {},
     "output_type": "display_data"
    }
   ],
   "source": [
    "cfd = nltk.ConditionalFreqDist(\n",
    "       (target, fileid[:4])\n",
    "          for fileid in victorySpeeches.fileids()\n",
    "          for w in victorySpeeches.words(fileid)\n",
    "          for target in ['brit', 'people', \"country\"]\n",
    "          if w.lower().startswith(target)) \n",
    "%matplotlib inline \n",
    "cfd.plot()"
   ]
  },
  {
   "cell_type": "code",
   "execution_count": 171,
   "metadata": {
    "collapsed": false
   },
   "outputs": [],
   "source": [
    "def nationalMarkers(speech):\n",
    "    print(\"Matches for BRITISH\")\n",
    "    speech.concordance(\"british\")\n",
    "    print(\"\")\n",
    "    print(\"Matches for UNITED KINGDOM\")\n",
    "    speech.concordance(\"United Kingdom\")\n",
    "    print(\"\")\n",
    "    print(\"Matches for UK\")\n",
    "    speech.concordance(\"UK\")\n",
    "    print(\"\")\n",
    "    print(\"Matches for COUNTRY\")\n",
    "    speech.concordance(\"country\") \n",
    "    print(\"\")\n",
    "    print(\"Matches for PEOPLE\")\n",
    "    speech.concordance(\"people\") "
   ]
  },
  {
   "cell_type": "code",
   "execution_count": 139,
   "metadata": {
    "collapsed": false
   },
   "outputs": [
    {
     "name": "stdout",
     "output_type": "stream",
     "text": [
      "Matches for BRITISH\n",
      "No matches\n",
      "\n",
      "Matches for UNITED KINGDOM\n",
      "No matches\n",
      "\n",
      "Matches for UK\n",
      "No matches\n",
      "\n",
      "Matches for COUNTRY\n",
      "Displaying 3 of 3 matches:\n",
      ". But the mission to make Britain a country that works for everyone means more \n",
      " through an important moment in our country ’ s history . Following the referen\n",
      " world , and we will make Britain a country that works not for a privileged few\n",
      "\n",
      "Matches for PEOPLE\n",
      "Displaying 3 of 3 matches:\n",
      "he budget deficit , and helped more people into work than ever before . But Da\n",
      " of same - sex marriage , to taking people on low wages out of income tax alto\n",
      "ily , life is much harder than many people in Westminster realise . You have a\n"
     ]
    }
   ],
   "source": [
    "nationalMarkers(may2016)"
   ]
  },
  {
   "cell_type": "code",
   "execution_count": 140,
   "metadata": {
    "collapsed": false
   },
   "outputs": [
    {
     "name": "stdout",
     "output_type": "stream",
     "text": [
      "Matches for BRITISH\n",
      "No matches\n",
      "\n",
      "Matches for UNITED KINGDOM\n",
      "No matches\n",
      "\n",
      "Matches for UK\n",
      "No matches\n",
      "\n",
      "Matches for COUNTRY\n",
      "Displaying 7 of 7 matches:\n",
      "e brink of something special in our country ; we can make Britain a place where\n",
      " , we must ensure that we bring our country together . As I said in the small h\n",
      "s recovery reaches all parts of our country : from north to south , from east t\n",
      " ”. It means giving everyone in our country a chance , so no matter where you ’\n",
      "When I stood here 5 years ago , our country was in the grip of an economic cris\n",
      "as proved once again that this is a country with unrivalled skills and creative\n",
      "ivalled skills and creativeness ; a country with such good humour , and such gr\n",
      "\n",
      "Matches for PEOPLE\n",
      "Displaying 7 of 7 matches:\n",
      " ideas and arguments , and a lot of people who believe profoundly in public se\n",
      "anifesto is a manifesto for working people , and as a majority government we w\n",
      "with childcare ; helping 30 million people cope with the cost of living by cut\n",
      "g their taxes ; building homes that people are able to buy and own ; creating \n",
      "eating millions more jobs that give people the chance of a better future . And\n",
      " life . It means giving the poorest people the chance of training , a job , an\n",
      "o Scotland and Wales , and gave the people of Scotland a referendum on whether\n"
     ]
    }
   ],
   "source": [
    "nationalMarkers(cameron2015)"
   ]
  },
  {
   "cell_type": "code",
   "execution_count": 141,
   "metadata": {
    "collapsed": false
   },
   "outputs": [
    {
     "name": "stdout",
     "output_type": "stream",
     "text": [
      "Matches for BRITISH\n",
      "No matches\n",
      "\n",
      "Matches for UNITED KINGDOM\n",
      "No matches\n",
      "\n",
      "Matches for UK\n",
      "No matches\n",
      "\n",
      "Matches for COUNTRY\n",
      "Displaying 9 of 9 matches:\n",
      ". Compared with a decade ago , this country is more open at home and more compa\n",
      "eful for and on behalf of the whole country I ' d like to pay tribute to the ou\n",
      "vice . In terms of the future , our country has a hung parliament where no part\n",
      "at is the right way to provide this country with the strong , the stable , the \n",
      "e into politics because I love this country . I think its best days still lie a\n",
      "rvice . And I think the service our country needs right now is to face up to ou\n",
      "erly , the frail the poorest in our country . We must take everyone through wit\n",
      "rong and stable government that our country needs based on those values - rebui\n",
      " , rebuilding responsibility in our country . Those are the things I care about\n",
      "\n",
      "Matches for PEOPLE\n",
      "Displaying 3 of 3 matches:\n",
      " take difficult decisions , to lead people through those difficult decisions ,\n",
      "t , and yes it is about making sure people are in control - and that the polit\n",
      " And I want a political system that people can trust and look up to once again\n"
     ]
    }
   ],
   "source": [
    "nationalMarkers(cameron2010)"
   ]
  },
  {
   "cell_type": "code",
   "execution_count": 142,
   "metadata": {
    "collapsed": false
   },
   "outputs": [
    {
     "name": "stdout",
     "output_type": "stream",
     "text": [
      "Matches for BRITISH\n",
      "Displaying 5 of 5 matches:\n",
      " the service of what matters to the British people , meeting the concerns and a\n",
      "istened and I have learned from the British people - and as Prime Minister I wi\n",
      "ntinue to listen and learn from the British people - I have heard the need for \n",
      " ; change to protect and extend the British way of life . And this need for cha\n",
      "be overcome by the strengths of the British people . On this day I remember wor\n",
      "\n",
      "Matches for UNITED KINGDOM\n",
      "No matches\n",
      "\n",
      "Matches for UK\n",
      "No matches\n",
      "\n",
      "Matches for COUNTRY\n",
      "Displaying 3 of 3 matches:\n",
      "d the great opportunity to serve my country . And at all times I will be strong\n",
      "ncerns and aspirations of our whole country . I grew up in the town that I now \n",
      "ry . As I have travelled around the country and as I have listened and I have l\n",
      "\n",
      "Matches for PEOPLE\n",
      "Displaying 6 of 6 matches:\n",
      "vice of what matters to the British people , meeting the concerns and aspirati\n",
      " and realise the talents of all our people then I am absolutely sure that Brit\n",
      "and I have learned from the British people - and as Prime Minister I will cont\n",
      "o listen and learn from the British people - I have heard the need for change \n",
      "ome by the strengths of the British people . On this day I remember words that\n",
      "'. This is my promise to all of the people of Britain and now let the work of \n"
     ]
    }
   ],
   "source": [
    "nationalMarkers(brown2007)"
   ]
  },
  {
   "cell_type": "code",
   "execution_count": 143,
   "metadata": {
    "collapsed": false
   },
   "outputs": [
    {
     "name": "stdout",
     "output_type": "stream",
     "text": [
      "Matches for BRITISH\n",
      "Displaying 3 of 3 matches:\n",
      " ' ve a very clear idea of what the British people now expect from this governm\n",
      "ourth , I ' ve also learnt that the British people are a tolerant and decent pe\n",
      " ve also learnt something about the British people , that , whatever their diff\n",
      "\n",
      "Matches for UNITED KINGDOM\n",
      "No matches\n",
      "\n",
      "Matches for UK\n",
      "No matches\n",
      "\n",
      "Matches for COUNTRY\n",
      "Displaying 3 of 3 matches:\n",
      "ny people and many families in this country . And they know that there are new \n",
      "ign by people ' s worry that in our country today , though they like the fact t\n",
      "een a deeply divisive issue in this country - that ' s been very , very clear .\n",
      "\n",
      "Matches for PEOPLE\n",
      "Displaying 23 of 23 matches:\n",
      "ng in our minds the priorities that people want , we - I - the government , ha\n",
      "on is that you go out , you talk to people for week upon week and I ' ve liste\n",
      "very clear idea of what the British people now expect from this government for\n",
      "entlessly now on the priorities the people have set for us . And what are thos\n",
      "e is still a real struggle for many people and many families in this country .\n",
      "lancing work and family life . Many people struggling to make ends meet . Many\n",
      " the future . It is very clear what people want us to do and we will do it . S\n",
      "ices - health and education - again people like the investment that has gone i\n",
      "e cut back on that investment . But people want that money to work better for \n",
      " for the 21st century . And third , people welcome that so many more people ar\n",
      " , people welcome that so many more people are in work and have moved off bene\n",
      "ved off benefit and into work . But people still know there are too many peopl\n",
      "eople still know there are too many people economically inactive who should be\n",
      "e standard of life that they want . People expect us to sort these issues - we\n",
      "I ' ve also learnt that the British people are a tolerant and decent people . \n",
      "sh people are a tolerant and decent people . They did not want immigration mad\n",
      ", in the course of this campaign by people ' s worry that in our country today\n",
      "e past , there is a disrespect that people don ' t like . And whether it ' s i\n",
      "nd believe that after this election people want to move on ; they want to focu\n",
      " are many other issues that concern people in the international agenda and we \n",
      "ve quite the same expectations that people had of us in 1997 , yet now we do h\n",
      " learnt something about the British people , that , whatever their difficultie\n",
      "portunity for all and a belief that people should be able to get on , on hard \n"
     ]
    }
   ],
   "source": [
    "nationalMarkers(blair2005)"
   ]
  },
  {
   "cell_type": "code",
   "execution_count": 144,
   "metadata": {
    "collapsed": false
   },
   "outputs": [
    {
     "name": "stdout",
     "output_type": "stream",
     "text": [
      "Matches for BRITISH\n",
      "Displaying 1 of 1 matches:\n",
      " victory in this election shows the British people understand we have laid foun\n",
      "\n",
      "Matches for UNITED KINGDOM\n",
      "No matches\n",
      "\n",
      "Matches for UK\n",
      "No matches\n",
      "\n",
      "Matches for COUNTRY\n",
      "Displaying 5 of 5 matches:\n",
      "trusted with the government of this country and I am deeply conscious of that p\n",
      "ches the changes that I believe the country needs to see . On the foundation of\n",
      " technology , knowing that for this country in the future the forces of global \n",
      "asy . But Britain is a very special country and its people are a very special p\n",
      "lents take them , where we create a country genuinely where not just a few peop\n",
      "\n",
      "Matches for PEOPLE\n",
      "Displaying 7 of 7 matches:\n",
      "t , of setting them out clearly for people and then focusing on them relentles\n",
      "on me , after re - election to tell people very clearly what are the difficult\n",
      "stem . Again here , from talking to people , from meeting them , from hearing \n",
      "n is a very special country and its people are a very special people and our v\n",
      "y and its people are a very special people and our very best quality is our ab\n",
      "ntry genuinely where not just a few people at the top , but everyone , every o\n",
      " in this election shows the British people understand we have laid foundations\n"
     ]
    }
   ],
   "source": [
    "nationalMarkers(blair2001)"
   ]
  },
  {
   "cell_type": "code",
   "execution_count": 145,
   "metadata": {
    "collapsed": false
   },
   "outputs": [
    {
     "name": "stdout",
     "output_type": "stream",
     "text": [
      "Matches for BRITISH\n",
      "Displaying 1 of 1 matches:\n",
      "pon me and the great trust that the British people have placed in me . I know w\n",
      "\n",
      "Matches for UNITED KINGDOM\n",
      "No matches\n",
      "\n",
      "Matches for UK\n",
      "No matches\n",
      "\n",
      "Matches for COUNTRY\n",
      "Displaying 6 of 6 matches:\n",
      "ministration and government for the country . John Major ' s dignity and courag\n",
      "laced in me . I know well what this country has voted for today . It is a manda\n",
      "our and I say to the people of this country -- we ran for office as New Labour \n",
      "ate to get those things done in our country that desperately need doing for the\n",
      "o restore trust in politics in this country . That cleans it up , that decentra\n",
      " government , too , that gives this country strength and confidence in leadersh\n",
      "\n",
      "Matches for PEOPLE\n",
      "Displaying 6 of 6 matches:\n",
      "nd the great trust that the British people have placed in me . I know well wha\n",
      "ate for New Labour and I say to the people of this country -- we ran for offic\n",
      " govern in the interests of all our people -- the whole of this nation . That \n",
      " that decentralizes it , that gives people hope once again that politics is an\n",
      "ses . That is our objective for the people of Britain . Above all , we have se\n",
      " and decency and duty towards other people . Simple values , but the right one\n"
     ]
    }
   ],
   "source": [
    "nationalMarkers(blair1997)"
   ]
  },
  {
   "cell_type": "code",
   "execution_count": 146,
   "metadata": {
    "collapsed": false
   },
   "outputs": [
    {
     "name": "stdout",
     "output_type": "stream",
     "text": [
      "Matches for BRITISH\n",
      "No matches\n",
      "\n",
      "Matches for UNITED KINGDOM\n",
      "No matches\n",
      "\n",
      "Matches for UK\n",
      "No matches\n",
      "\n",
      "Matches for COUNTRY\n",
      "Displaying 5 of 5 matches:\n",
      "pportunities in front of us in this country . I want to make sure that this cou\n",
      "try . I want to make sure that this country is in the right position to take ad\n",
      "rst thing we must do is to move the country out of recession and back into grow\n",
      " quality of life for people in this country and they will be central to our pro\n",
      "vailable for all the people in this country in precisely the way it has been in\n",
      "\n",
      "Matches for PEOPLE\n",
      "Displaying 5 of 5 matches:\n",
      "ices that make such a difference to people ’ s lifestyle , such a difference t\n",
      " central to the quality of life for people in this country and they will be ce\n",
      "ir lifetime can be handed on to the people they love and passed on between gen\n",
      "independence that that provides for people . All these are going to be central\n",
      "ealth Service available for all the people in this country in precisely the wa\n"
     ]
    }
   ],
   "source": [
    "nationalMarkers(major1992)"
   ]
  },
  {
   "cell_type": "code",
   "execution_count": 147,
   "metadata": {
    "collapsed": false
   },
   "outputs": [
    {
     "name": "stdout",
     "output_type": "stream",
     "text": [
      "Matches for BRITISH\n",
      "No matches\n",
      "\n",
      "Matches for UNITED KINGDOM\n",
      "No matches\n",
      "\n",
      "Matches for UK\n",
      "No matches\n",
      "\n",
      "Matches for COUNTRY\n",
      "Displaying 6 of 6 matches:\n",
      "from so many people up and down the country . I hope in the next few years that\n",
      "owering Prime Minister who left our country in a far better condition than she \n",
      "lding and development in which this country will play a full and leading role .\n",
      "particular I want to see us build a country that is at ease with itself , a cou\n",
      "try that is at ease with itself , a country that is confident , and a country t\n",
      "a country that is confident , and a country that is prepared and willing to mak\n",
      "\n",
      "Matches for PEOPLE\n",
      "Displaying 3 of 3 matches:\n",
      "at we have already had from so many people up and down the country . I hope in\n",
      "n society , a society in which what people fulfil will depend upon their talen\n",
      "ation and their good fortune . What people achieve should depend particularly \n"
     ]
    }
   ],
   "source": [
    "nationalMarkers(major1990)"
   ]
  },
  {
   "cell_type": "code",
   "execution_count": 148,
   "metadata": {
    "collapsed": false
   },
   "outputs": [
    {
     "name": "stdout",
     "output_type": "stream",
     "text": [
      "Matches for BRITISH\n",
      "No matches\n",
      "\n",
      "Matches for UNITED KINGDOM\n",
      "No matches\n",
      "\n",
      "Matches for UK\n",
      "No matches\n",
      "\n",
      "Matches for COUNTRY\n",
      "Displaying 2 of 2 matches:\n",
      "dard of living throughout the whole country and the defence and , of course , a\n",
      " the prosperity everywhere over our country . I do not expect an enormous numbe\n",
      "\n",
      "Matches for PEOPLE\n",
      "Displaying 14 of 14 matches:\n",
      "t ourselves to the judgement of the people . But we now have to get on and get\n",
      " but to try to bring opportunity to people who have not got it at the moment .\n",
      " [ fo 2 ] at some of the inner city people in housing and in education . Some \n",
      "sing and in education . Some of the people in some of those militant cities fe\n",
      " has gone into inner cities . Often people have not realised it is taxpayers '\n",
      "it is taxpayers ' money because the people around those inner cities , or some\n",
      "ty . We are producing the results , people realise that that is the right way \n",
      " partnership between Government and people , Government having the right polic\n",
      "nment having the right policies and people responding . That is the way steadi\n",
      " be , otherwise some of the younger people who have hopes of getting into cabi\n",
      "ou know , in spite of the fact that people have served extremely well and with\n",
      " decides then to make way for young people you will say the older people have \n",
      "young people you will say the older people have been sacked . It is not this ,\n",
      "his , they are making way for other people and that is the way of politics . E\n"
     ]
    }
   ],
   "source": [
    "nationalMarkers(thatcher1987)"
   ]
  },
  {
   "cell_type": "code",
   "execution_count": 149,
   "metadata": {
    "collapsed": false
   },
   "outputs": [
    {
     "name": "stdout",
     "output_type": "stream",
     "text": [
      "Matches for BRITISH\n",
      "No matches\n",
      "\n",
      "Matches for UNITED KINGDOM\n",
      "No matches\n",
      "\n",
      "Matches for UK\n",
      "No matches\n",
      "\n",
      "Matches for COUNTRY\n",
      "Displaying 1 of 1 matches:\n",
      "ecisive , strong Government in this country . We don ' t have to start afresh y\n",
      "\n",
      "Matches for PEOPLE\n",
      "Displaying 14 of 14 matches:\n",
      "ow varied they have been . And some people are very disappointed . Well , yes \n",
      "o do , is that you have a number of people in the House for quite a time , you\n",
      "e a time , you ' ve had a number of people in junior posts , you know people w\n",
      "f people in junior posts , you know people who are ... climbing the ladder , w\n",
      "at means ... having to ... for some people to come on the ladder , some people\n",
      "people to come on the ladder , some people have to climb off . And it ' s not \n",
      "vement in politics in order to keep people with something to go for . No , I '\n",
      "time to have a new look and I think people rather expect it — a new look , and\n",
      "t perfectly clear — have a range of people in Cabinet you always , as I tried \n",
      "iews within the Party . Some of the people in the SDP had they still been retu\n",
      "refore we just have to change a few people , uh , because ... you have to keep\n",
      ", uh , because ... you have to keep people who ' ve got junior office with som\n",
      "herefore is that it means that some people who really have done a very good jo\n",
      " , we have a system well - known by people that the person who is first wins ,\n"
     ]
    }
   ],
   "source": [
    "nationalMarkers(thatcher1983)"
   ]
  },
  {
   "cell_type": "code",
   "execution_count": 150,
   "metadata": {
    "collapsed": false
   },
   "outputs": [
    {
     "name": "stdout",
     "output_type": "stream",
     "text": [
      "Matches for BRITISH\n",
      "Displaying 2 of 2 matches:\n",
      "l the trust and confidence that the British people have placed in me and the th\n",
      "pe ’ … .[ fo 1 ] … . and to all the British people — howsoever they voted — may\n",
      "\n",
      "Matches for UNITED KINGDOM\n",
      "No matches\n",
      "\n",
      "Matches for UK\n",
      "No matches\n",
      "\n",
      "Matches for COUNTRY\n",
      "Displaying 1 of 1 matches:\n",
      " strive to serve and strengthen the country of which we ' re so proud to be a p\n",
      "\n",
      "Matches for PEOPLE\n",
      "Displaying 2 of 2 matches:\n",
      "ust and confidence that the British people have placed in me and the things in\n",
      "[ fo 1 ] … . and to all the British people — howsoever they voted — may I say \n"
     ]
    }
   ],
   "source": [
    "nationalMarkers(thatcher1979)"
   ]
  },
  {
   "cell_type": "markdown",
   "metadata": {},
   "source": [
    "### 4.1.4 Expressions of gratitude\n",
    "\n",
    "We also wanted to find if the winning candidates had made special mention of people or organisations. Again, we can get a general idea of the situation plotting relevant words (like *thank, grateful, gratitude*, etc.). We will use the `startswith()` method again, so that options like *thank*full, *greatful*ness, and other derived terms are also considered in the search. "
   ]
  },
  {
   "cell_type": "code",
   "execution_count": 103,
   "metadata": {
    "collapsed": false
   },
   "outputs": [
    {
     "data": {
      "image/png": "[encoded data removed]",
      "text/plain": [
       "<matplotlib.figure.Figure at 0xdd14978>"
      ]
     },
     "metadata": {},
     "output_type": "display_data"
    }
   ],
   "source": [
    "cfd = nltk.ConditionalFreqDist(\n",
    "       (target, fileid[:4])\n",
    "          for fileid in victorySpeeches.fileids()\n",
    "          for w in victorySpeeches.words(fileid)\n",
    "          for target in [\"thank\", \"gratefull\", \"gratitude\", \"owe\"]\n",
    "          if w.lower().startswith(target)) \n",
    "cfd.plot()"
   ]
  },
  {
   "cell_type": "code",
   "execution_count": 151,
   "metadata": {
    "collapsed": false
   },
   "outputs": [],
   "source": [
    "def gratitudeMarkers(speech):\n",
    "    print(\"Matches for THANK\")\n",
    "    speech.concordance(\"thank\")\n",
    "    print(\"\")\n",
    "    print(\"Matches for GRATEFUL\")\n",
    "    speech.concordance(\"grateful\")\n",
    "    print(\"\")\n",
    "    print(\"Matches for GRATITUDE\")\n",
    "    speech.concordance(\"gratitude\")\n",
    "    print(\"\")\n",
    "    print(\"Matches for OWE\")\n",
    "    speech.concordance(\"owe\")     "
   ]
  },
  {
   "cell_type": "code",
   "execution_count": 152,
   "metadata": {
    "collapsed": false
   },
   "outputs": [
    {
     "name": "stdout",
     "output_type": "stream",
     "text": [
      "Matches for THANK\n",
      "No matches\n",
      "\n",
      "Matches for GRATEFUL\n",
      "No matches\n",
      "\n",
      "Matches for GRATITUDE\n",
      "No matches\n",
      "\n",
      "Matches for OWE\n",
      "No matches\n"
     ]
    }
   ],
   "source": [
    "gratitudeMarkers(may2016)"
   ]
  },
  {
   "cell_type": "code",
   "execution_count": 155,
   "metadata": {
    "collapsed": false
   },
   "outputs": [
    {
     "name": "stdout",
     "output_type": "stream",
     "text": [
      "Matches for THANK\n",
      "Displaying 2 of 2 matches:\n",
      "vernment in 70 years , and I want to thank all those who worked so hard to make\n",
      "n make Great Britain greater still . Thank you .\n",
      "\n",
      "Matches for GRATEFUL\n",
      "No matches\n",
      "\n",
      "Matches for GRATITUDE\n",
      "No matches\n",
      "\n",
      "Matches for OWE\n",
      "No matches\n"
     ]
    }
   ],
   "source": [
    "gratitudeMarkers(cameron2015)"
   ]
  },
  {
   "cell_type": "code",
   "execution_count": 156,
   "metadata": {
    "collapsed": false
   },
   "outputs": [
    {
     "name": "stdout",
     "output_type": "stream",
     "text": [
      "Matches for THANK\n",
      "Displaying 1 of 1 matches:\n",
      "nment will now start work on doing . Thank you very much .\n",
      "\n",
      "Matches for GRATEFUL\n",
      "Displaying 1 of 1 matches:\n",
      "that is something we should all be grateful for and on behalf of the whole cou\n",
      "\n",
      "Matches for GRATITUDE\n",
      "No matches\n",
      "\n",
      "Matches for OWE\n",
      "No matches\n"
     ]
    }
   ],
   "source": [
    "gratitudeMarkers(cameron2010)"
   ]
  },
  {
   "cell_type": "code",
   "execution_count": 159,
   "metadata": {
    "collapsed": false
   },
   "outputs": [
    {
     "name": "stdout",
     "output_type": "stream",
     "text": [
      "Matches for THANK\n",
      "Displaying 1 of 1 matches:\n",
      "d now let the work of change begin . Thank you .\n",
      "\n",
      "Matches for GRATEFUL\n",
      "No matches\n",
      "\n",
      "Matches for GRATITUDE\n",
      "No matches\n",
      "\n",
      "Matches for OWE\n",
      "No matches\n"
     ]
    }
   ],
   "source": [
    "gratitudeMarkers(brown2007)"
   ]
  },
  {
   "cell_type": "code",
   "execution_count": 160,
   "metadata": {
    "collapsed": false
   },
   "outputs": [
    {
     "name": "stdout",
     "output_type": "stream",
     "text": [
      "Matches for THANK\n",
      "Displaying 1 of 1 matches:\n",
      "ues our government will believe in . Thank you .\n",
      "\n",
      "Matches for GRATEFUL\n",
      "No matches\n",
      "\n",
      "Matches for GRATITUDE\n",
      "No matches\n",
      "\n",
      "Matches for OWE\n",
      "No matches\n"
     ]
    }
   ],
   "source": [
    "gratitudeMarkers(blair2005)"
   ]
  },
  {
   "cell_type": "code",
   "execution_count": 161,
   "metadata": {
    "collapsed": false
   },
   "outputs": [
    {
     "name": "stdout",
     "output_type": "stream",
     "text": [
      "Matches for THANK\n",
      "Displaying 1 of 1 matches:\n",
      "now is the time to build upon them . Thank you .\n",
      "\n",
      "Matches for GRATEFUL\n",
      "No matches\n",
      "\n",
      "Matches for GRATITUDE\n",
      "No matches\n",
      "\n",
      "Matches for OWE\n",
      "No matches\n"
     ]
    }
   ],
   "source": [
    "gratitudeMarkers(blair2001)"
   ]
  },
  {
   "cell_type": "code",
   "execution_count": 162,
   "metadata": {
    "collapsed": false
   },
   "outputs": [
    {
     "name": "stdout",
     "output_type": "stream",
     "text": [
      "Matches for THANK\n",
      "No matches\n",
      "\n",
      "Matches for GRATEFUL\n",
      "No matches\n",
      "\n",
      "Matches for GRATITUDE\n",
      "No matches\n",
      "\n",
      "Matches for OWE\n",
      "No matches\n"
     ]
    }
   ],
   "source": [
    "gratitudeMarkers(blair1997)"
   ]
  },
  {
   "cell_type": "code",
   "execution_count": 165,
   "metadata": {
    "collapsed": false
   },
   "outputs": [
    {
     "name": "stdout",
     "output_type": "stream",
     "text": [
      "Matches for THANK\n",
      "Displaying 1 of 1 matches:\n",
      " will use it well and not waste it . Thank you all very much !\n",
      "\n",
      "Matches for GRATEFUL\n",
      "No matches\n",
      "\n",
      "Matches for GRATITUDE\n",
      "No matches\n",
      "\n",
      "Matches for OWE\n",
      "No matches\n"
     ]
    }
   ],
   "source": [
    "gratitudeMarkers(major1992)"
   ]
  },
  {
   "cell_type": "code",
   "execution_count": 166,
   "metadata": {
    "collapsed": false
   },
   "outputs": [
    {
     "name": "stdout",
     "output_type": "stream",
     "text": [
      "Matches for THANK\n",
      "Displaying 1 of 1 matches:\n",
      "ht away and make a start right now . Thank you very much indeed .\n",
      "\n",
      "Matches for GRATEFUL\n",
      "Displaying 2 of 2 matches:\n",
      "                                   grateful for the trust that my Parliamentar\n",
      "hat that trust is justified . I am grateful also for the enormous achievements\n",
      "\n",
      "Matches for GRATITUDE\n",
      "No matches\n",
      "\n",
      "Matches for OWE\n",
      "No matches\n"
     ]
    }
   ],
   "source": [
    "gratitudeMarkers(major1990)"
   ]
  },
  {
   "cell_type": "code",
   "execution_count": 167,
   "metadata": {
    "collapsed": false
   },
   "outputs": [
    {
     "name": "stdout",
     "output_type": "stream",
     "text": [
      "Matches for THANK\n",
      "Displaying 1 of 1 matches:\n",
      "e we were concentrating on content . Thank you very much . We have got a lot of\n",
      "\n",
      "Matches for GRATEFUL\n",
      "No matches\n",
      "\n",
      "Matches for GRATITUDE\n",
      "No matches\n",
      "\n",
      "Matches for OWE\n",
      "No matches\n"
     ]
    }
   ],
   "source": [
    "gratitudeMarkers(thatcher1987)"
   ]
  },
  {
   "cell_type": "code",
   "execution_count": 168,
   "metadata": {
    "collapsed": false
   },
   "outputs": [
    {
     "name": "stdout",
     "output_type": "stream",
     "text": [
      "Matches for THANK\n",
      "Displaying 9 of 9 matches:\n",
      " me . And finally I just want to say thank you to my husband , Denis , who has \n",
      "ectives are those in the manifesto , thank you ... Absolutely wonderful ! And g\n",
      "t and we must exercise it that way . Thank you very much indeed , thank you , a\n",
      "t way . Thank you very much indeed , thank you , all right , thank you very muc\n",
      "uch indeed , thank you , all right , thank you very much . I must get back . I \n",
      " ’ ve got a telephone call to make . Thank you , thank you very much , thank yo\n",
      "telephone call to make . Thank you , thank you very much , thank you , thank yo\n",
      " . Thank you , thank you very much , thank you , thank you very much for coming\n",
      " , thank you very much , thank you , thank you very much for coming , goodbye .\n",
      "\n",
      "Matches for GRATEFUL\n",
      "No matches\n",
      "\n",
      "Matches for GRATITUDE\n",
      "No matches\n",
      "\n",
      "Matches for OWE\n",
      "No matches\n"
     ]
    }
   ],
   "source": [
    "gratitudeMarkers(thatcher1983)"
   ]
  },
  {
   "cell_type": "code",
   "execution_count": 169,
   "metadata": {
    "collapsed": false
   },
   "outputs": [
    {
     "name": "stdout",
     "output_type": "stream",
     "text": [
      "Matches for THANK\n",
      "Displaying 1 of 1 matches:\n",
      "                                     Thank you very much . Very excited , very \n",
      "\n",
      "Matches for GRATEFUL\n",
      "No matches\n",
      "\n",
      "Matches for GRATITUDE\n",
      "No matches\n",
      "\n",
      "Matches for OWE\n",
      "Displaying 1 of 1 matches:\n",
      "important . Well , of course , I just owe almost everything to my own father . \n"
     ]
    }
   ],
   "source": [
    "gratitudeMarkers(thatcher1979)"
   ]
  },
  {
   "cell_type": "markdown",
   "metadata": {},
   "source": [
    "## Conclusions\n",
    "\n",
    "Markers can be a particularly good idea to quickly analyse the contents of texts. In this case the topics of our interest and the terms used to identify them were very clear. It would be necessary to work with other topics to see if the method is equally effective.\n",
    "\n",
    "Frequency distribution plots have the disadvantage of not keeping the chronological order of the files (speeches). Conditional frequency distribution plots did not show the same problem.\n",
    "\n",
    "We also learned that it is important to check if the names of functions and concepts used in NLP programs mean exactly the same as the terms used by academics and theoreticians in the field.\n",
    "\n",
    "The comparative perspective assumed for this work determined the need to find possible common parameters for comparison. A non-comparative analysis could be more propitious for a design that goes more in depth and can be better adapted to the particular characteristics of a speech/text."
   ]
  },
  {
   "cell_type": "markdown",
   "metadata": {},
   "source": [
    "### References\n",
    "\n",
    "- Bird, Steven, Edward Loper and Ewan Klein (2009), *Natural Language Processing with Python*. O’Reilly Media Inc.\n",
    "\n",
    "- NLTK 3.0 Documentation (2015), *Corpus readers*, available at http://www.nltk.org/howto/corpus.html#corpus-reader-classes\n",
    "\n",
    "- Walker, Kaylin (2016) *Text mining South Park for characteristic phrases*. Available at https://github.com/walkerkq/textmining_southpark/blob/master/southpark_loglikelihood.pdf\n",
    "\n",
    "- Walker, Kaylin (2016) *50 Years of Pop Music* Available at http://kaylinwalker.com/50-years-of-pop-music\n",
    "\n",
    "- Kuchling, A.M. (2016), Regular Expression HOWTO, Available at https://docs.python.org/3/howto/regex.html\n",
    "\n",
    "- Dalke, Andrew and Hettinger, Raymond (2014), Sorting Mini-HOW TO, Available at https://wiki.python.org/moin/HowTo/Sorting\n",
    "\n",
    "- Python Software Foundation (2016), The Python Tutorial. Chapter 5: Data Structures, available at https://docs.python.org/3/tutorial/datastructures.html"
   ]
  }
 ],
 "metadata": {
  "kernelspec": {
   "display_name": "Python 3",
   "language": "python",
   "name": "python3"
  },
  "language_info": {
   "codemirror_mode": {
    "name": "ipython",
    "version": 3
   },
   "file_extension": ".py",
   "mimetype": "text/x-python",
   "name": "python",
   "nbconvert_exporter": "python",
   "pygments_lexer": "ipython3",
   "version": "3.4.3"
  }
 },
 "nbformat": 4,
 "nbformat_minor": 0
}
