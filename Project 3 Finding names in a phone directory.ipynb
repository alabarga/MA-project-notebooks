{
 "cells": [
  {
   "cell_type": "markdown",
   "metadata": {},
   "source": [
    "# Project 3. Finding names in a phone directory\n",
    "\n",
    "## *Working with SQL in Python*\n",
    "\n",
    "In the present example we have used a database containing all the clients of the only telecommunications provider in Cuba. The data was leaked in 2008 by an employee of the company. The leak was a big violation of customers' privacy, and it has been spread in different versions of mobile apps created by Cuban programmers. \n",
    "\n",
    "The journalism piece that could be created from this analysis would not identify personal data of the users, but the processing of the data below will show some of that information.\n",
    "\n",
    "Our goal is to get a collection of Cuban first names, to determine which are more common. Government agencies and registries in Cuba don't publish this information periodically like other countries, so that is our motivation to use this data set in particular.\n",
    "\n",
    "And since the resulting material wouldn't be making reference to any individuals in particular, just to groups of commonly used names, we don't think we would be contributing to further expose the customer's private information - if that is possible.\n",
    "\n",
    "**Type of text analysed**: Customer database                 \n",
    "**Text data description**: Relational database containing 4 tables and over 2 million clients              \n",
    "**Type of project by data size**: Medium                      \n",
    "**Data collection**: Database obtained from an app \n",
    "\n",
    "## SQL in Jupyter\n",
    "\n",
    "We had many reasons to work with this database in IPython, and not in any other SQL client. For the courses we took online to learn SQL, we used SQLite3 in the command line, and Microsoft SQL Server Management Studio. \n",
    "\n",
    "One of the reasons to do this is that we also wanted to use the notebooks for this mini-project. Logically, the first thing we did was to do some research to find out if there was an SQL kernel that could be added to the Jupyter installation.\n",
    "\n",
    "We didn't find one, but we found a very clever work around by [Catherine Devlin](https://github.com/catherinedevlin): she created an SQL client for Jupyter using `Magics`, the group of functions that allow to run code written in different languages within the same notebook.\n",
    "\n",
    "![](https://s19.postimg.org/maznvmd0j/sql_client.jpg)"
   ]
  },
  {
   "cell_type": "markdown",
   "metadata": {},
   "source": [
    "## SQL in Python\n",
    "\n",
    "As you can see in the image above, once you install and load the extension, the use of SQL is very straight forward. But having already worked with SQL in the command line, we wanted to use this opportunity to learn the basics of the work with SQL in Python, with a view to being able to include SQL queries in our Python workflow in the future.\n",
    "\n",
    "For this example, we are going to use the `sqlite3` module, a DB-API 2.0 interface for SQLite databases in Python.\n",
    "\n",
    "### (1) Connecting to the database\n",
    "\n",
    "Let's start by importing the module: (these initial steps follow the information in the [documentation for sqlite3](https://docs.python.org/3.5/library/sqlite3.html))"
   ]
  },
  {
   "cell_type": "code",
   "execution_count": 19,
   "metadata": {
    "collapsed": false
   },
   "outputs": [],
   "source": [
    "import sqlite3"
   ]
  },
  {
   "cell_type": "markdown",
   "metadata": {},
   "source": [
    "Our database file is called `dirtelefonico.db3` and we have saved a copy in our working directory. To connect to the database, we create the variable `conn` and we assign to it the exectution of the `connect` method as follows:"
   ]
  },
  {
   "cell_type": "code",
   "execution_count": 20,
   "metadata": {
    "collapsed": true
   },
   "outputs": [],
   "source": [
    "conn = sqlite3.connect(\"dirtelefonico.db3\")"
   ]
  },
  {
   "cell_type": "markdown",
   "metadata": {},
   "source": [
    "Next, we apply the `cursor` method to that connection, and we store it in a variable, so that we can use that to run our different queries:"
   ]
  },
  {
   "cell_type": "code",
   "execution_count": 21,
   "metadata": {
    "collapsed": true
   },
   "outputs": [],
   "source": [
    "c = conn.cursor()"
   ]
  },
  {
   "cell_type": "markdown",
   "metadata": {},
   "source": [
    "### (2) Exploring the data\n",
    "\n",
    "Now that we have our cursor object (`c`), we can use that to run our queries. \n",
    "\n",
    "The first thing we need to do is to find the schema of the database, that is, learning how many tables it contains and what are their respective structures.\n",
    "\n",
    "#### Tables comprising the database\n",
    "\n",
    "We beging finding out the names of the tables:"
   ]
  },
  {
   "cell_type": "code",
   "execution_count": 22,
   "metadata": {
    "collapsed": false
   },
   "outputs": [
    {
     "data": {
      "text/plain": [
       "[('CENTER_DATOS_CLIENTE_CUBACEL',),\n",
       " ('CLASIFICACION POR SECTORES',),\n",
       " ('FIJOS NACIONALES',),\n",
       " ('Publicas',),\n",
       " ('name_dob2',),\n",
       " ('name_dob',)]"
      ]
     },
     "execution_count": 22,
     "metadata": {},
     "output_type": "execute_result"
    }
   ],
   "source": [
    "c.execute(\"SELECT name FROM sqlite_master WHERE type='table'\")\n",
    "c.fetchall()"
   ]
  },
  {
   "cell_type": "markdown",
   "metadata": {},
   "source": [
    "So the database includes 4 tables. Judging from the names of the tables, the last 2 could contain information about landlines and paid phones, respectively, but it's not really clear.\n",
    "\n",
    "The best way to start exploring the tables is to get the names of the columns they contain.\n",
    "\n",
    "#### Column names in each of the tables"
   ]
  },
  {
   "cell_type": "code",
   "execution_count": 23,
   "metadata": {
    "collapsed": false
   },
   "outputs": [
    {
     "data": {
      "text/plain": [
       "[(0, 'NUMERO_TELEFONO', 'REAL', 0, None, 0),\n",
       " (1, 'IMSI', 'TEXT', 0, None, 0),\n",
       " (2, 'TIPO_NUMERO', 'TEXT', 0, None, 0),\n",
       " (3, 'USUARIO_TELEFONO', 'TEXT', 0, None, 0),\n",
       " (4, 'IDENTIFICACION', 'TEXT', 0, None, 0),\n",
       " (5, 'DIRECCION', 'TEXT', 0, None, 0),\n",
       " (6, 'NACIONALIDAD', 'TEXT', 0, None, 0),\n",
       " (7, 'PERSONA_AUTORIZADA', 'TEXT', 0, None, 0),\n",
       " (8, 'DIRECCION_PERSONA_AUTORIZADA', 'TEXT', 0, None, 0),\n",
       " (9, 'FECHA_ACTIVACION', 'DATE', 0, None, 0),\n",
       " (10, 'CLIENTE', 'REAL', 0, None, 0),\n",
       " (11, 'NOMBRE_CLIENTE', 'TEXT', 0, None, 0),\n",
       " (12, 'CLASIFICACION', 'REAL', 0, None, 0),\n",
       " (13, 'CLASIFICACION_CLIENTE', 'TEXT', 0, None, 0),\n",
       " (14, 'CONTRATO', 'REAL', 0, None, 0),\n",
       " (15, 'NOMBRE_CONTRATO', 'TEXT', 0, None, 0),\n",
       " (16, 'PROVINCIA', 'TEXT', 0, None, 0),\n",
       " (17, 'indice', 'INTEGER', 0, None, 0)]"
      ]
     },
     "execution_count": 23,
     "metadata": {},
     "output_type": "execute_result"
    }
   ],
   "source": [
    "# After trying the options we knew from SQL, we discovered that dot-commands don't work in this configuration, as explained\n",
    "# in item 4 of the Command Line Shell For SQLite in this link https://www.sqlite.org/cli.html. Commands like \n",
    "# INFORMATION_SCHEMA.COLUMNS, or .schema, etc. wouldn't work\n",
    "\n",
    "# after trying many options we found this method in Stack Overflow \n",
    "# http://stackoverflow.com/questions/11996394/is-there-a-way-to-get-a-schema-of-a-database-from-within-python\n",
    "\n",
    "# Column names and type of content for table 1 (CENTER_DATOS_CLIENTE_CUBACEL) \n",
    "c.execute(\"PRAGMA table_info(CENTER_DATOS_CLIENTE_CUBACEL);\")\n",
    "c.fetchall()"
   ]
  },
  {
   "cell_type": "code",
   "execution_count": 24,
   "metadata": {
    "collapsed": false
   },
   "outputs": [
    {
     "data": {
      "text/plain": [
       "[(0, 'SECTOR', 'TEXT', 0, None, 0), (1, 'CLASIFICACIÓN', 'TEXT', 0, None, 0)]"
      ]
     },
     "execution_count": 24,
     "metadata": {},
     "output_type": "execute_result"
    }
   ],
   "source": [
    "# Column names and type of content for table 1 (CLASSIFICATION BY SECTOR) \n",
    "c.execute(\"PRAGMA table_info(`CLASIFICACION POR SECTORES`);\")\n",
    "c.fetchall()"
   ]
  },
  {
   "cell_type": "code",
   "execution_count": 25,
   "metadata": {
    "collapsed": false
   },
   "outputs": [
    {
     "data": {
      "text/plain": [
       "[(0, 'CENTROFACT', 'TEXT', 0, None, 0),\n",
       " (1, 'SECTOR', 'TEXT', 0, None, 0),\n",
       " (2, 'SERVICIOS', 'TEXT', 0, None, 0),\n",
       " (3, 'EXPR1', 'TEXT', 0, None, 0),\n",
       " (4, 'APELL1', 'TEXT', 0, None, 0),\n",
       " (5, 'APELL2', 'TEXT', 0, None, 0),\n",
       " (6, 'DIRECCION', 'TEXT', 0, None, 0),\n",
       " (7, 'INSC', 'TEXT', 0, None, 0),\n",
       " (8, 'INSN', 'TEXT', 0, None, 0),\n",
       " (9, 'INSK', 'TEXT', 0, None, 0),\n",
       " (10, 'ETC1', 'TEXT', 0, None, 0),\n",
       " (11, 'ETC2', 'TEXT', 0, None, 0),\n",
       " (12, 'RPTO', 'TEXT', 0, None, 0),\n",
       " (13, 'PUEBLO', 'TEXT', 0, None, 0),\n",
       " (14, 'TI', 'INT', 0, None, 0)]"
      ]
     },
     "execution_count": 25,
     "metadata": {},
     "output_type": "execute_result"
    }
   ],
   "source": [
    "# Column names and type of content for table 1 (NATIONAL LANDLINES) \n",
    "c.execute(\"PRAGMA table_info(`FIJOS NACIONALES`);\")\n",
    "c.fetchall()"
   ]
  },
  {
   "cell_type": "code",
   "execution_count": 26,
   "metadata": {
    "collapsed": false
   },
   "outputs": [
    {
     "data": {
      "text/plain": [
       "[(0, 'Número', 'TEXT', 0, None, 0),\n",
       " (1, 'Dirección', 'TEXT', 0, None, 0),\n",
       " (2, 'Municipio', 'TEXT', 0, None, 0),\n",
       " (3, 'Localidad', 'TEXT', 0, None, 0),\n",
       " (4, 'Reparto', 'TEXT', 0, None, 0),\n",
       " (5, 'Localización', 'TEXT', 0, None, 0),\n",
       " (6, 'Centro Atención', 'TEXT', 0, None, 0),\n",
       " (7, 'Ura', 'TEXT', 0, None, 0),\n",
       " (8, 'Zona', 'TEXT', 0, None, 0),\n",
       " (9, 'Cerradura', 'TEXT', 0, None, 0),\n",
       " (10, 'Inventario', 'TEXT', 0, None, 0),\n",
       " (11, 'CPopular', 'TEXT', 0, None, 0),\n",
       " (12, 'Organismo', 'TEXT', 0, None, 0),\n",
       " (13, 'Propietario', 'TEXT', 0, None, 0),\n",
       " (14, 'CI Prop', 'TEXT', 0, None, 0),\n",
       " (15, 'Circunscripción', 'TEXT', 0, None, 0),\n",
       " (16, 'Categ Clte', 'TEXT', 0, None, 0),\n",
       " (17, 'TipoServ', 'TEXT', 0, None, 0),\n",
       " (18, 'Sector', 'TEXT', 0, None, 0),\n",
       " (19, 'Cód Mercad', 'TEXT', 0, None, 0),\n",
       " (20, 'Categoría', 'TEXT', 0, None, 0),\n",
       " (21, 'Soporte', 'TEXT', 0, None, 0),\n",
       " (22, 'Entidad', 'TEXT', 0, None, 0),\n",
       " (23, 'Motivo Soc', 'TEXT', 0, None, 0)]"
      ]
     },
     "execution_count": 26,
     "metadata": {},
     "output_type": "execute_result"
    }
   ],
   "source": [
    "# Column names and type of content for table 1 (Public) \n",
    "c.execute(\"PRAGMA table_info(Publicas);\")\n",
    "c.fetchall()"
   ]
  },
  {
   "cell_type": "markdown",
   "metadata": {},
   "source": [
    "Most of the column names convey a clear idea of their content (it's easy to anticipate what the content of columns like *Number, Municipality, Owner, Last name* etc. is going to be; other names like *Lock, Inventory* and unknown accronyms like *Ura, IMSI* are obscure though).\n",
    "\n",
    "Combining this with our knowledge of telephone services in Cuba, we can tell at this point that:\n",
    "- table 1 contains information about mobile services (cell phones)\n",
    "- no idea what table 2 is about (a junction table maybe?)\n",
    "- table 3 contains information about landlines\n",
    "- table 4 contains sinformation about paid phones\n",
    "\n",
    "### Looking at samples of content\n",
    "\n",
    "We can continue to explore the data by looking at a sample of the content, and the most logic way to do that is look at the first row of content of each table."
   ]
  },
  {
   "cell_type": "code",
   "execution_count": 27,
   "metadata": {
    "collapsed": false
   },
   "outputs": [
    {
     "data": {
      "text/plain": [
       "(5352973132.0,\n",
       " '368010100352377',\n",
       " 'Prepago',\n",
       " 'ILEANA ANGELA PULDIN PLANCHART',\n",
       " '59100210372',\n",
       " 'CALLE 281 NO18837 188 Y 184 BALUARTE ',\n",
       " 'CUBANA',\n",
       " None,\n",
       " 'CALLE 281 NO18837188 Y 184 BALUARTE',\n",
       " '2007-08-30',\n",
       " 504369.0,\n",
       " 'ILEANA ANGELA PULDIN PLANCHART',\n",
       " 1.0,\n",
       " 'A TITULO PERSONAL',\n",
       " 703623.0,\n",
       " 'ILEANA ANGELA PULDIN PLANCHART',\n",
       " 'CIUDAD DE LA HABANA',\n",
       " None)"
      ]
     },
     "execution_count": 27,
     "metadata": {},
     "output_type": "execute_result"
    }
   ],
   "source": [
    "# Content of the first row in Table 1\n",
    "c.execute(\"SELECT * FROM CENTER_DATOS_CLIENTE_CUBACEL\")\n",
    "c.fetchone()"
   ]
  },
  {
   "cell_type": "code",
   "execution_count": 28,
   "metadata": {
    "collapsed": false
   },
   "outputs": [
    {
     "data": {
      "text/plain": [
       "[('AM', 'ALCANCIA MONEDERO'),\n",
       " ('PT', 'PARTICULAR'),\n",
       " ('SS', 'MININT'),\n",
       " ('MN', 'MININT'),\n",
       " ('MF', 'MINFAR'),\n",
       " ('ME', 'MINFAR'),\n",
       " ('LS', 'PARTICULAR'),\n",
       " ('LM', 'PARTICULAR')]"
      ]
     },
     "execution_count": 28,
     "metadata": {},
     "output_type": "execute_result"
    }
   ],
   "source": [
    "# Content of the first row in Table 2\n",
    "c.execute(\"SELECT * FROM `CLASIFICACION POR SECTORES` limit 20\")\n",
    "c.fetchall()"
   ]
  },
  {
   "cell_type": "code",
   "execution_count": 29,
   "metadata": {
    "collapsed": false
   },
   "outputs": [
    {
     "data": {
      "text/plain": [
       "('Pinar del Rio',\n",
       " 'AF',\n",
       " '2197009',\n",
       " 'Iglesia Pentecostal Luz del Mundo',\n",
       " None,\n",
       " None,\n",
       " '28 de Septiembre #53    P.del Rio',\n",
       " '28 de Septiembre',\n",
       " '53',\n",
       " None,\n",
       " None,\n",
       " None,\n",
       " None,\n",
       " 'P.del Rio',\n",
       " 0)"
      ]
     },
     "execution_count": 29,
     "metadata": {},
     "output_type": "execute_result"
    }
   ],
   "source": [
    "# Content of the first row in Table 3\n",
    "c.execute(\"SELECT * FROM `FIJOS NACIONALES`\")\n",
    "c.fetchone()"
   ]
  },
  {
   "cell_type": "code",
   "execution_count": 30,
   "metadata": {
    "collapsed": false
   },
   "outputs": [
    {
     "data": {
      "text/plain": [
       "('7620017     ',\n",
       " 'AVE 5TA ZONA 19                                                                                                                                                                                                                                                ',\n",
       " 'Habana del Este',\n",
       " 'ALAMAR                        ',\n",
       " 'ZONA 19',\n",
       " 'MERCADO (I)                                                                                                                                                                                                                                                    ',\n",
       " 'ALAMAR        ',\n",
       " 'Alamar',\n",
       " 'Alamar2',\n",
       " '',\n",
       " '',\n",
       " 'ALAMAR ESTE',\n",
       " '',\n",
       " '',\n",
       " '           ',\n",
       " '',\n",
       " 'TELEF. PUB. MON. EXTERIOR',\n",
       " 'AM',\n",
       " 'AM',\n",
       " 'TIENDAS DE VIVERES Y SUPERMERCADOS',\n",
       " '3',\n",
       " 'PARED                    ',\n",
       " '',\n",
       " '')"
      ]
     },
     "execution_count": 30,
     "metadata": {},
     "output_type": "execute_result"
    }
   ],
   "source": [
    "# Content of the first row in Table 4\n",
    "c.execute(\"SELECT * FROM Publicas\")\n",
    "c.fetchone()"
   ]
  },
  {
   "cell_type": "markdown",
   "metadata": {},
   "source": [
    "This second step of the exploration confirms the ideas we proposed before about the content of the tables (and we still don't know what table 2 is about, we discarded the hypothesis of it being a junction or bridge table (used in many-to-many relations as a link between other tables). It's structue (only 2 columns) seemed to point to that possibility, but its non-unique content is not consistent with that idea.\n",
    "\n",
    "### Ideas for stories\n",
    "\n",
    "Although we started this search with names in mind, this preliminary exploration of the data points to other possible stories, base on calculations that can \n",
    "\n",
    "\n",
    "### (3) Finding the data for our story: extracting the names\n",
    "\n",
    "If we take a look at the `USUARIO_TELEFONO` (CLIENT) list, we will see that it contains the following:"
   ]
  },
  {
   "cell_type": "code",
   "execution_count": 31,
   "metadata": {
    "collapsed": false
   },
   "outputs": [
    {
     "data": {
      "text/plain": [
       "[('ILEANA ANGELA PULDIN PLANCHART',),\n",
       " ('JORGE LUIS MARTINEZ HERNANDEZ',),\n",
       " ('IVAN MARIÑO PADRON',),\n",
       " ('JESSIE RODRIGUEZ LOPEZ',),\n",
       " ('HUMBERTO HERNANDEZ RAMOS',),\n",
       " ('GONZALO LAZARO COLINA DELGADO',),\n",
       " ('IRAIDA AGUSTINA BORREGO RODRIGUEZ',),\n",
       " ('ERNESTO RABEIRO MARIMON',),\n",
       " ('ANGEL GILBERTO GONZALEZ DIAZ',),\n",
       " ('MIGUEL ANGEL MIRANDA PEREZ',)]"
      ]
     },
     "execution_count": 31,
     "metadata": {},
     "output_type": "execute_result"
    }
   ],
   "source": [
    "# Content of the first row in Table 1\n",
    "c.execute(\"SELECT USUARIO_TELEFONO FROM CENTER_DATOS_CLIENTE_CUBACEL LIMIT 10\")\n",
    "c.fetchall()"
   ]
  },
  {
   "cell_type": "markdown",
   "metadata": {},
   "source": [
    "As you may see, the column contains the name(s) and surnames of the clients. In Cuba, like in may other Spanish speaking countries, people are registered with two surnames: the first surname is the father's last name, and the second is the mother's last name. \n",
    "\n",
    "Single mothers may decide to give the child both their surnames, and there may be less common exceptions but the rule is that people have two.\n",
    "\n",
    "That works really well for our example, becuase it gives us a relatively good way to extract just the names.\n",
    "\n",
    "Let's explore the data:"
   ]
  },
  {
   "cell_type": "code",
   "execution_count": 32,
   "metadata": {
    "collapsed": false
   },
   "outputs": [
    {
     "data": {
      "text/plain": [
       "[(1018659,)]"
      ]
     },
     "execution_count": 32,
     "metadata": {},
     "output_type": "execute_result"
    }
   ],
   "source": [
    "# Counting the number of rows (clients)\n",
    "c.execute(\"SELECT COUNT(USUARIO_TELEFONO) FROM CENTER_DATOS_CLIENTE_CUBACEL\")\n",
    "c.fetchall()"
   ]
  },
  {
   "cell_type": "code",
   "execution_count": 33,
   "metadata": {
    "collapsed": false
   },
   "outputs": [
    {
     "data": {
      "text/plain": [
       "[(999683,)]"
      ]
     },
     "execution_count": 33,
     "metadata": {},
     "output_type": "execute_result"
    }
   ],
   "source": [
    "# Counting the number of Cuban clients\n",
    "c.execute(\"SELECT COUNT(USUARIO_TELEFONO) FROM CENTER_DATOS_CLIENTE_CUBACEL WHERE NACIONALIDAD= 'CUBANA';\")\n",
    "c.fetchall()"
   ]
  },
  {
   "cell_type": "markdown",
   "metadata": {
    "collapsed": false
   },
   "source": [
    "We are now going to create a separate table to make our transformations there, and preserve the original tables."
   ]
  },
  {
   "cell_type": "code",
   "execution_count": 38,
   "metadata": {
    "collapsed": false
   },
   "outputs": [
    {
     "data": {
      "text/plain": [
       "[]"
      ]
     },
     "execution_count": 38,
     "metadata": {},
     "output_type": "execute_result"
    }
   ],
   "source": [
    "c.executescript(\"\"\"CREATE TABLE name_dob AS\n",
    "          SELECT USUARIO_TELEFONO, IDENTIFICACION \n",
    "          FROM CENTER_DATOS_CLIENTE_CUBACEL \n",
    "          WHERE NACIONALIDAD='CUBANA';\n",
    "          \"\"\")\n",
    "c.fetchall()"
   ]
  },
  {
   "cell_type": "code",
   "execution_count": null,
   "metadata": {
    "collapsed": true
   },
   "outputs": [],
   "source": [
    "# Keep this lines around to drop and re-create name_dob when re-running the notebook\n",
    "# c.execute(\"DROP TABLE name_dob\")\n",
    "# c.fetchall()"
   ]
  },
  {
   "cell_type": "markdown",
   "metadata": {},
   "source": [
    "We do a quick check to make sure it contains what we expected:"
   ]
  },
  {
   "cell_type": "code",
   "execution_count": 39,
   "metadata": {
    "collapsed": false
   },
   "outputs": [
    {
     "data": {
      "text/plain": [
       "[(0, 'USUARIO_TELEFONO', 'TEXT', 0, None, 0),\n",
       " (1, 'IDENTIFICACION', 'TEXT', 0, None, 0)]"
      ]
     },
     "execution_count": 39,
     "metadata": {},
     "output_type": "execute_result"
    }
   ],
   "source": [
    "c.execute(\"PRAGMA table_info(name_dob)\")\n",
    "c.fetchall()"
   ]
  },
  {
   "cell_type": "code",
   "execution_count": 40,
   "metadata": {
    "collapsed": false
   },
   "outputs": [
    {
     "data": {
      "text/plain": [
       "[('ILEANA ANGELA PULDIN PLANCHART', '59100210372'),\n",
       " ('JORGE LUIS MARTINEZ HERNANDEZ', '69100500084'),\n",
       " ('IVAN MARIÑO PADRON', '67021402488'),\n",
       " ('JESSIE RODRIGUEZ LOPEZ', '89101701859'),\n",
       " ('HUMBERTO HERNANDEZ RAMOS', '65101520104'),\n",
       " ('GONZALO LAZARO COLINA DELGADO', '64101802141'),\n",
       " ('IRAIDA AGUSTINA BORREGO RODRIGUEZ', '66050514514'),\n",
       " ('ERNESTO RABEIRO MARIMON', '73121900900'),\n",
       " ('ANGEL GILBERTO GONZALEZ DIAZ', '76011201449'),\n",
       " ('MIGUEL ANGEL MIRANDA PEREZ', '79072507504')]"
      ]
     },
     "execution_count": 40,
     "metadata": {},
     "output_type": "execute_result"
    }
   ],
   "source": [
    "c.execute(\"SELECT * FROM name_dob  LIMIT 10\")\n",
    "c.fetchall()"
   ]
  },
  {
   "cell_type": "markdown",
   "metadata": {},
   "source": [
    "We also want to make sure that the results for the foreigners were excluded, something we can do counting the content of the Clients column:"
   ]
  },
  {
   "cell_type": "code",
   "execution_count": 75,
   "metadata": {
    "collapsed": false
   },
   "outputs": [
    {
     "data": {
      "text/plain": [
       "[(999683,)]"
      ]
     },
     "execution_count": 75,
     "metadata": {},
     "output_type": "execute_result"
    }
   ],
   "source": [
    "c.execute(\"SELECT COUNT(USUARIO_TELEFONO) FROM name_dob\")\n",
    "c.fetchall()"
   ]
  },
  {
   "cell_type": "markdown",
   "metadata": {},
   "source": [
    "Now we can create a data frame to do our calculations:"
   ]
  },
  {
   "cell_type": "code",
   "execution_count": 43,
   "metadata": {
    "collapsed": true
   },
   "outputs": [],
   "source": [
    "from pandas import *"
   ]
  },
  {
   "cell_type": "code",
   "execution_count": 44,
   "metadata": {
    "collapsed": false
   },
   "outputs": [],
   "source": [
    "import pandas.io.sql as sql\n",
    "import pandas as DataFrame\n",
    "# http://pandas.pydata.org/pandas-docs/stable/generated/pandas.read_sql.html\n",
    "table = pandas.read_sql(\"SELECT * FROM name_dob\", conn)"
   ]
  },
  {
   "cell_type": "code",
   "execution_count": 79,
   "metadata": {
    "collapsed": false
   },
   "outputs": [
    {
     "data": {
      "text/html": [
       "<div>\n",
       "<table border=\"1\" class=\"dataframe\">\n",
       "  <thead>\n",
       "    <tr style=\"text-align: right;\">\n",
       "      <th></th>\n",
       "      <th>Name</th>\n",
       "      <th>ID</th>\n",
       "    </tr>\n",
       "  </thead>\n",
       "  <tbody>\n",
       "    <tr>\n",
       "      <th>0</th>\n",
       "      <td>ILEANA ANGELA PULDIN PLANCHART</td>\n",
       "      <td>59100210372</td>\n",
       "    </tr>\n",
       "    <tr>\n",
       "      <th>1</th>\n",
       "      <td>JORGE LUIS MARTINEZ HERNANDEZ</td>\n",
       "      <td>69100500084</td>\n",
       "    </tr>\n",
       "    <tr>\n",
       "      <th>2</th>\n",
       "      <td>IVAN MARIÑO PADRON</td>\n",
       "      <td>67021402488</td>\n",
       "    </tr>\n",
       "    <tr>\n",
       "      <th>3</th>\n",
       "      <td>JESSIE RODRIGUEZ LOPEZ</td>\n",
       "      <td>89101701859</td>\n",
       "    </tr>\n",
       "    <tr>\n",
       "      <th>4</th>\n",
       "      <td>HUMBERTO HERNANDEZ RAMOS</td>\n",
       "      <td>65101520104</td>\n",
       "    </tr>\n",
       "  </tbody>\n",
       "</table>\n",
       "</div>"
      ],
      "text/plain": [
       "                             Name           ID\n",
       "0  ILEANA ANGELA PULDIN PLANCHART  59100210372\n",
       "1   JORGE LUIS MARTINEZ HERNANDEZ  69100500084\n",
       "2              IVAN MARIÑO PADRON  67021402488\n",
       "3          JESSIE RODRIGUEZ LOPEZ  89101701859\n",
       "4        HUMBERTO HERNANDEZ RAMOS  65101520104"
      ]
     },
     "execution_count": 79,
     "metadata": {},
     "output_type": "execute_result"
    }
   ],
   "source": [
    "table = table.rename(columns={'USUARIO_TELEFONO': 'Name', 'IDENTIFICACION': 'ID'})\n",
    "table.head()"
   ]
  },
  {
   "cell_type": "code",
   "execution_count": 80,
   "metadata": {
    "collapsed": false
   },
   "outputs": [
    {
     "data": {
      "text/html": [
       "<div>\n",
       "<table border=\"1\" class=\"dataframe\">\n",
       "  <thead>\n",
       "    <tr style=\"text-align: right;\">\n",
       "      <th></th>\n",
       "      <th>Name</th>\n",
       "      <th>ID</th>\n",
       "    </tr>\n",
       "  </thead>\n",
       "  <tbody>\n",
       "    <tr>\n",
       "      <th>0</th>\n",
       "      <td>ILEANA ANGELA PULDIN PLANCHART</td>\n",
       "      <td>59100210372</td>\n",
       "    </tr>\n",
       "    <tr>\n",
       "      <th>1</th>\n",
       "      <td>JORGE LUIS MARTINEZ HERNANDEZ</td>\n",
       "      <td>69100500084</td>\n",
       "    </tr>\n",
       "    <tr>\n",
       "      <th>2</th>\n",
       "      <td>IVAN MARIÑO PADRON</td>\n",
       "      <td>67021402488</td>\n",
       "    </tr>\n",
       "    <tr>\n",
       "      <th>3</th>\n",
       "      <td>JESSIE RODRIGUEZ LOPEZ</td>\n",
       "      <td>89101701859</td>\n",
       "    </tr>\n",
       "    <tr>\n",
       "      <th>4</th>\n",
       "      <td>HUMBERTO HERNANDEZ RAMOS</td>\n",
       "      <td>65101520104</td>\n",
       "    </tr>\n",
       "  </tbody>\n",
       "</table>\n",
       "</div>"
      ],
      "text/plain": [
       "                             Name           ID\n",
       "0  ILEANA ANGELA PULDIN PLANCHART  59100210372\n",
       "1   JORGE LUIS MARTINEZ HERNANDEZ  69100500084\n",
       "2              IVAN MARIÑO PADRON  67021402488\n",
       "3          JESSIE RODRIGUEZ LOPEZ  89101701859\n",
       "4        HUMBERTO HERNANDEZ RAMOS  65101520104"
      ]
     },
     "execution_count": 80,
     "metadata": {},
     "output_type": "execute_result"
    }
   ],
   "source": [
    "import pandas as pd\n",
    "table[\"Name\"] = table[\"Name\"].astype(str)\n",
    "table.head()"
   ]
  },
  {
   "cell_type": "code",
   "execution_count": 81,
   "metadata": {
    "collapsed": false
   },
   "outputs": [],
   "source": [
    "names_df = table"
   ]
  },
  {
   "cell_type": "markdown",
   "metadata": {},
   "source": [
    "The following fuction will allow us to split the content of column `Name` into different columns, putting the surnames first:"
   ]
  },
  {
   "cell_type": "code",
   "execution_count": 48,
   "metadata": {
    "collapsed": true
   },
   "outputs": [],
   "source": [
    "name_splitting = lambda x: pd.Series([i for i in reversed(x.split(' '))])"
   ]
  },
  {
   "cell_type": "markdown",
   "metadata": {},
   "source": [
    "Now we apply it to the column in question:"
   ]
  },
  {
   "cell_type": "code",
   "execution_count": 64,
   "metadata": {
    "collapsed": true
   },
   "outputs": [],
   "source": [
    "new_df = names_df['Name'].apply(name_splitting)"
   ]
  },
  {
   "cell_type": "markdown",
   "metadata": {},
   "source": [
    "Let's take a look at the beginning and the end of our resulting data frame:"
   ]
  },
  {
   "cell_type": "code",
   "execution_count": 66,
   "metadata": {
    "collapsed": false
   },
   "outputs": [
    {
     "data": {
      "text/html": [
       "<div>\n",
       "<table border=\"1\" class=\"dataframe\">\n",
       "  <thead>\n",
       "    <tr style=\"text-align: right;\">\n",
       "      <th></th>\n",
       "      <th>0</th>\n",
       "      <th>1</th>\n",
       "      <th>2</th>\n",
       "      <th>3</th>\n",
       "      <th>4</th>\n",
       "      <th>5</th>\n",
       "      <th>6</th>\n",
       "      <th>7</th>\n",
       "      <th>8</th>\n",
       "      <th>9</th>\n",
       "      <th>...</th>\n",
       "      <th>14</th>\n",
       "      <th>15</th>\n",
       "      <th>16</th>\n",
       "      <th>17</th>\n",
       "      <th>18</th>\n",
       "      <th>19</th>\n",
       "      <th>20</th>\n",
       "      <th>21</th>\n",
       "      <th>22</th>\n",
       "      <th>23</th>\n",
       "    </tr>\n",
       "  </thead>\n",
       "  <tbody>\n",
       "    <tr>\n",
       "      <th>0</th>\n",
       "      <td>PLANCHART</td>\n",
       "      <td>PULDIN</td>\n",
       "      <td>ANGELA</td>\n",
       "      <td>ILEANA</td>\n",
       "      <td>NaN</td>\n",
       "      <td>NaN</td>\n",
       "      <td>NaN</td>\n",
       "      <td>NaN</td>\n",
       "      <td>NaN</td>\n",
       "      <td>NaN</td>\n",
       "      <td>...</td>\n",
       "      <td>NaN</td>\n",
       "      <td>NaN</td>\n",
       "      <td>NaN</td>\n",
       "      <td>NaN</td>\n",
       "      <td>NaN</td>\n",
       "      <td>NaN</td>\n",
       "      <td>NaN</td>\n",
       "      <td>NaN</td>\n",
       "      <td>NaN</td>\n",
       "      <td>NaN</td>\n",
       "    </tr>\n",
       "    <tr>\n",
       "      <th>1</th>\n",
       "      <td>HERNANDEZ</td>\n",
       "      <td>MARTINEZ</td>\n",
       "      <td>LUIS</td>\n",
       "      <td>JORGE</td>\n",
       "      <td>NaN</td>\n",
       "      <td>NaN</td>\n",
       "      <td>NaN</td>\n",
       "      <td>NaN</td>\n",
       "      <td>NaN</td>\n",
       "      <td>NaN</td>\n",
       "      <td>...</td>\n",
       "      <td>NaN</td>\n",
       "      <td>NaN</td>\n",
       "      <td>NaN</td>\n",
       "      <td>NaN</td>\n",
       "      <td>NaN</td>\n",
       "      <td>NaN</td>\n",
       "      <td>NaN</td>\n",
       "      <td>NaN</td>\n",
       "      <td>NaN</td>\n",
       "      <td>NaN</td>\n",
       "    </tr>\n",
       "    <tr>\n",
       "      <th>2</th>\n",
       "      <td>PADRON</td>\n",
       "      <td>MARIÑO</td>\n",
       "      <td>IVAN</td>\n",
       "      <td>NaN</td>\n",
       "      <td>NaN</td>\n",
       "      <td>NaN</td>\n",
       "      <td>NaN</td>\n",
       "      <td>NaN</td>\n",
       "      <td>NaN</td>\n",
       "      <td>NaN</td>\n",
       "      <td>...</td>\n",
       "      <td>NaN</td>\n",
       "      <td>NaN</td>\n",
       "      <td>NaN</td>\n",
       "      <td>NaN</td>\n",
       "      <td>NaN</td>\n",
       "      <td>NaN</td>\n",
       "      <td>NaN</td>\n",
       "      <td>NaN</td>\n",
       "      <td>NaN</td>\n",
       "      <td>NaN</td>\n",
       "    </tr>\n",
       "    <tr>\n",
       "      <th>3</th>\n",
       "      <td>LOPEZ</td>\n",
       "      <td>RODRIGUEZ</td>\n",
       "      <td>JESSIE</td>\n",
       "      <td>NaN</td>\n",
       "      <td>NaN</td>\n",
       "      <td>NaN</td>\n",
       "      <td>NaN</td>\n",
       "      <td>NaN</td>\n",
       "      <td>NaN</td>\n",
       "      <td>NaN</td>\n",
       "      <td>...</td>\n",
       "      <td>NaN</td>\n",
       "      <td>NaN</td>\n",
       "      <td>NaN</td>\n",
       "      <td>NaN</td>\n",
       "      <td>NaN</td>\n",
       "      <td>NaN</td>\n",
       "      <td>NaN</td>\n",
       "      <td>NaN</td>\n",
       "      <td>NaN</td>\n",
       "      <td>NaN</td>\n",
       "    </tr>\n",
       "    <tr>\n",
       "      <th>4</th>\n",
       "      <td>RAMOS</td>\n",
       "      <td>HERNANDEZ</td>\n",
       "      <td>HUMBERTO</td>\n",
       "      <td>NaN</td>\n",
       "      <td>NaN</td>\n",
       "      <td>NaN</td>\n",
       "      <td>NaN</td>\n",
       "      <td>NaN</td>\n",
       "      <td>NaN</td>\n",
       "      <td>NaN</td>\n",
       "      <td>...</td>\n",
       "      <td>NaN</td>\n",
       "      <td>NaN</td>\n",
       "      <td>NaN</td>\n",
       "      <td>NaN</td>\n",
       "      <td>NaN</td>\n",
       "      <td>NaN</td>\n",
       "      <td>NaN</td>\n",
       "      <td>NaN</td>\n",
       "      <td>NaN</td>\n",
       "      <td>NaN</td>\n",
       "    </tr>\n",
       "    <tr>\n",
       "      <th>5</th>\n",
       "      <td>DELGADO</td>\n",
       "      <td>COLINA</td>\n",
       "      <td>LAZARO</td>\n",
       "      <td>GONZALO</td>\n",
       "      <td>NaN</td>\n",
       "      <td>NaN</td>\n",
       "      <td>NaN</td>\n",
       "      <td>NaN</td>\n",
       "      <td>NaN</td>\n",
       "      <td>NaN</td>\n",
       "      <td>...</td>\n",
       "      <td>NaN</td>\n",
       "      <td>NaN</td>\n",
       "      <td>NaN</td>\n",
       "      <td>NaN</td>\n",
       "      <td>NaN</td>\n",
       "      <td>NaN</td>\n",
       "      <td>NaN</td>\n",
       "      <td>NaN</td>\n",
       "      <td>NaN</td>\n",
       "      <td>NaN</td>\n",
       "    </tr>\n",
       "    <tr>\n",
       "      <th>6</th>\n",
       "      <td>RODRIGUEZ</td>\n",
       "      <td>BORREGO</td>\n",
       "      <td>AGUSTINA</td>\n",
       "      <td>IRAIDA</td>\n",
       "      <td>NaN</td>\n",
       "      <td>NaN</td>\n",
       "      <td>NaN</td>\n",
       "      <td>NaN</td>\n",
       "      <td>NaN</td>\n",
       "      <td>NaN</td>\n",
       "      <td>...</td>\n",
       "      <td>NaN</td>\n",
       "      <td>NaN</td>\n",
       "      <td>NaN</td>\n",
       "      <td>NaN</td>\n",
       "      <td>NaN</td>\n",
       "      <td>NaN</td>\n",
       "      <td>NaN</td>\n",
       "      <td>NaN</td>\n",
       "      <td>NaN</td>\n",
       "      <td>NaN</td>\n",
       "    </tr>\n",
       "    <tr>\n",
       "      <th>7</th>\n",
       "      <td>MARIMON</td>\n",
       "      <td>RABEIRO</td>\n",
       "      <td>ERNESTO</td>\n",
       "      <td>NaN</td>\n",
       "      <td>NaN</td>\n",
       "      <td>NaN</td>\n",
       "      <td>NaN</td>\n",
       "      <td>NaN</td>\n",
       "      <td>NaN</td>\n",
       "      <td>NaN</td>\n",
       "      <td>...</td>\n",
       "      <td>NaN</td>\n",
       "      <td>NaN</td>\n",
       "      <td>NaN</td>\n",
       "      <td>NaN</td>\n",
       "      <td>NaN</td>\n",
       "      <td>NaN</td>\n",
       "      <td>NaN</td>\n",
       "      <td>NaN</td>\n",
       "      <td>NaN</td>\n",
       "      <td>NaN</td>\n",
       "    </tr>\n",
       "    <tr>\n",
       "      <th>8</th>\n",
       "      <td>DIAZ</td>\n",
       "      <td>GONZALEZ</td>\n",
       "      <td>GILBERTO</td>\n",
       "      <td>ANGEL</td>\n",
       "      <td>NaN</td>\n",
       "      <td>NaN</td>\n",
       "      <td>NaN</td>\n",
       "      <td>NaN</td>\n",
       "      <td>NaN</td>\n",
       "      <td>NaN</td>\n",
       "      <td>...</td>\n",
       "      <td>NaN</td>\n",
       "      <td>NaN</td>\n",
       "      <td>NaN</td>\n",
       "      <td>NaN</td>\n",
       "      <td>NaN</td>\n",
       "      <td>NaN</td>\n",
       "      <td>NaN</td>\n",
       "      <td>NaN</td>\n",
       "      <td>NaN</td>\n",
       "      <td>NaN</td>\n",
       "    </tr>\n",
       "    <tr>\n",
       "      <th>9</th>\n",
       "      <td>PEREZ</td>\n",
       "      <td>MIRANDA</td>\n",
       "      <td>ANGEL</td>\n",
       "      <td>MIGUEL</td>\n",
       "      <td>NaN</td>\n",
       "      <td>NaN</td>\n",
       "      <td>NaN</td>\n",
       "      <td>NaN</td>\n",
       "      <td>NaN</td>\n",
       "      <td>NaN</td>\n",
       "      <td>...</td>\n",
       "      <td>NaN</td>\n",
       "      <td>NaN</td>\n",
       "      <td>NaN</td>\n",
       "      <td>NaN</td>\n",
       "      <td>NaN</td>\n",
       "      <td>NaN</td>\n",
       "      <td>NaN</td>\n",
       "      <td>NaN</td>\n",
       "      <td>NaN</td>\n",
       "      <td>NaN</td>\n",
       "    </tr>\n",
       "  </tbody>\n",
       "</table>\n",
       "<p>10 rows × 24 columns</p>\n",
       "</div>"
      ],
      "text/plain": [
       "          0          1         2        3    4    5    6    7    8    9  ...   \\\n",
       "0  PLANCHART     PULDIN    ANGELA   ILEANA  NaN  NaN  NaN  NaN  NaN  NaN ...    \n",
       "1  HERNANDEZ   MARTINEZ      LUIS    JORGE  NaN  NaN  NaN  NaN  NaN  NaN ...    \n",
       "2     PADRON     MARIÑO      IVAN      NaN  NaN  NaN  NaN  NaN  NaN  NaN ...    \n",
       "3      LOPEZ  RODRIGUEZ    JESSIE      NaN  NaN  NaN  NaN  NaN  NaN  NaN ...    \n",
       "4      RAMOS  HERNANDEZ  HUMBERTO      NaN  NaN  NaN  NaN  NaN  NaN  NaN ...    \n",
       "5    DELGADO     COLINA    LAZARO  GONZALO  NaN  NaN  NaN  NaN  NaN  NaN ...    \n",
       "6  RODRIGUEZ    BORREGO  AGUSTINA   IRAIDA  NaN  NaN  NaN  NaN  NaN  NaN ...    \n",
       "7    MARIMON    RABEIRO   ERNESTO      NaN  NaN  NaN  NaN  NaN  NaN  NaN ...    \n",
       "8       DIAZ   GONZALEZ  GILBERTO    ANGEL  NaN  NaN  NaN  NaN  NaN  NaN ...    \n",
       "9      PEREZ    MIRANDA     ANGEL   MIGUEL  NaN  NaN  NaN  NaN  NaN  NaN ...    \n",
       "\n",
       "    14   15   16   17   18   19   20   21   22   23  \n",
       "0  NaN  NaN  NaN  NaN  NaN  NaN  NaN  NaN  NaN  NaN  \n",
       "1  NaN  NaN  NaN  NaN  NaN  NaN  NaN  NaN  NaN  NaN  \n",
       "2  NaN  NaN  NaN  NaN  NaN  NaN  NaN  NaN  NaN  NaN  \n",
       "3  NaN  NaN  NaN  NaN  NaN  NaN  NaN  NaN  NaN  NaN  \n",
       "4  NaN  NaN  NaN  NaN  NaN  NaN  NaN  NaN  NaN  NaN  \n",
       "5  NaN  NaN  NaN  NaN  NaN  NaN  NaN  NaN  NaN  NaN  \n",
       "6  NaN  NaN  NaN  NaN  NaN  NaN  NaN  NaN  NaN  NaN  \n",
       "7  NaN  NaN  NaN  NaN  NaN  NaN  NaN  NaN  NaN  NaN  \n",
       "8  NaN  NaN  NaN  NaN  NaN  NaN  NaN  NaN  NaN  NaN  \n",
       "9  NaN  NaN  NaN  NaN  NaN  NaN  NaN  NaN  NaN  NaN  \n",
       "\n",
       "[10 rows x 24 columns]"
      ]
     },
     "execution_count": 66,
     "metadata": {},
     "output_type": "execute_result"
    }
   ],
   "source": [
    "new_df.head(10)"
   ]
  },
  {
   "cell_type": "code",
   "execution_count": 67,
   "metadata": {
    "collapsed": false
   },
   "outputs": [
    {
     "data": {
      "text/html": [
       "<div>\n",
       "<table border=\"1\" class=\"dataframe\">\n",
       "  <thead>\n",
       "    <tr style=\"text-align: right;\">\n",
       "      <th></th>\n",
       "      <th>0</th>\n",
       "      <th>1</th>\n",
       "      <th>2</th>\n",
       "      <th>3</th>\n",
       "      <th>4</th>\n",
       "      <th>5</th>\n",
       "      <th>6</th>\n",
       "      <th>7</th>\n",
       "      <th>8</th>\n",
       "      <th>9</th>\n",
       "      <th>...</th>\n",
       "      <th>14</th>\n",
       "      <th>15</th>\n",
       "      <th>16</th>\n",
       "      <th>17</th>\n",
       "      <th>18</th>\n",
       "      <th>19</th>\n",
       "      <th>20</th>\n",
       "      <th>21</th>\n",
       "      <th>22</th>\n",
       "      <th>23</th>\n",
       "    </tr>\n",
       "  </thead>\n",
       "  <tbody>\n",
       "    <tr>\n",
       "      <th>1002783</th>\n",
       "      <td>GONZALEZ</td>\n",
       "      <td>ALVAREZ</td>\n",
       "      <td>RAMON</td>\n",
       "      <td>MARIO</td>\n",
       "      <td>NaN</td>\n",
       "      <td>NaN</td>\n",
       "      <td>NaN</td>\n",
       "      <td>NaN</td>\n",
       "      <td>NaN</td>\n",
       "      <td>NaN</td>\n",
       "      <td>...</td>\n",
       "      <td>NaN</td>\n",
       "      <td>NaN</td>\n",
       "      <td>NaN</td>\n",
       "      <td>NaN</td>\n",
       "      <td>NaN</td>\n",
       "      <td>NaN</td>\n",
       "      <td>NaN</td>\n",
       "      <td>NaN</td>\n",
       "      <td>NaN</td>\n",
       "      <td>NaN</td>\n",
       "    </tr>\n",
       "    <tr>\n",
       "      <th>1002784</th>\n",
       "      <td>GARCIA</td>\n",
       "      <td>CRUZ</td>\n",
       "      <td>LESDIE</td>\n",
       "      <td>NaN</td>\n",
       "      <td>NaN</td>\n",
       "      <td>NaN</td>\n",
       "      <td>NaN</td>\n",
       "      <td>NaN</td>\n",
       "      <td>NaN</td>\n",
       "      <td>NaN</td>\n",
       "      <td>...</td>\n",
       "      <td>NaN</td>\n",
       "      <td>NaN</td>\n",
       "      <td>NaN</td>\n",
       "      <td>NaN</td>\n",
       "      <td>NaN</td>\n",
       "      <td>NaN</td>\n",
       "      <td>NaN</td>\n",
       "      <td>NaN</td>\n",
       "      <td>NaN</td>\n",
       "      <td>NaN</td>\n",
       "    </tr>\n",
       "    <tr>\n",
       "      <th>1002785</th>\n",
       "      <td>HURTADO</td>\n",
       "      <td>DIAZ</td>\n",
       "      <td>ANABEL</td>\n",
       "      <td>NaN</td>\n",
       "      <td>NaN</td>\n",
       "      <td>NaN</td>\n",
       "      <td>NaN</td>\n",
       "      <td>NaN</td>\n",
       "      <td>NaN</td>\n",
       "      <td>NaN</td>\n",
       "      <td>...</td>\n",
       "      <td>NaN</td>\n",
       "      <td>NaN</td>\n",
       "      <td>NaN</td>\n",
       "      <td>NaN</td>\n",
       "      <td>NaN</td>\n",
       "      <td>NaN</td>\n",
       "      <td>NaN</td>\n",
       "      <td>NaN</td>\n",
       "      <td>NaN</td>\n",
       "      <td>NaN</td>\n",
       "    </tr>\n",
       "    <tr>\n",
       "      <th>1002786</th>\n",
       "      <td>CEDEÑO</td>\n",
       "      <td>MESA</td>\n",
       "      <td>GRISEL</td>\n",
       "      <td>NaN</td>\n",
       "      <td>NaN</td>\n",
       "      <td>NaN</td>\n",
       "      <td>NaN</td>\n",
       "      <td>NaN</td>\n",
       "      <td>NaN</td>\n",
       "      <td>NaN</td>\n",
       "      <td>...</td>\n",
       "      <td>NaN</td>\n",
       "      <td>NaN</td>\n",
       "      <td>NaN</td>\n",
       "      <td>NaN</td>\n",
       "      <td>NaN</td>\n",
       "      <td>NaN</td>\n",
       "      <td>NaN</td>\n",
       "      <td>NaN</td>\n",
       "      <td>NaN</td>\n",
       "      <td>NaN</td>\n",
       "    </tr>\n",
       "    <tr>\n",
       "      <th>1002787</th>\n",
       "      <td>CASTILLO</td>\n",
       "      <td>HERNANDEZ</td>\n",
       "      <td>ESTANISLAO</td>\n",
       "      <td>OSVALDO</td>\n",
       "      <td>NaN</td>\n",
       "      <td>NaN</td>\n",
       "      <td>NaN</td>\n",
       "      <td>NaN</td>\n",
       "      <td>NaN</td>\n",
       "      <td>NaN</td>\n",
       "      <td>...</td>\n",
       "      <td>NaN</td>\n",
       "      <td>NaN</td>\n",
       "      <td>NaN</td>\n",
       "      <td>NaN</td>\n",
       "      <td>NaN</td>\n",
       "      <td>NaN</td>\n",
       "      <td>NaN</td>\n",
       "      <td>NaN</td>\n",
       "      <td>NaN</td>\n",
       "      <td>NaN</td>\n",
       "    </tr>\n",
       "    <tr>\n",
       "      <th>1002788</th>\n",
       "      <td>GUERRA</td>\n",
       "      <td>VALLADARES</td>\n",
       "      <td>WILFREDO</td>\n",
       "      <td>NaN</td>\n",
       "      <td>NaN</td>\n",
       "      <td>NaN</td>\n",
       "      <td>NaN</td>\n",
       "      <td>NaN</td>\n",
       "      <td>NaN</td>\n",
       "      <td>NaN</td>\n",
       "      <td>...</td>\n",
       "      <td>NaN</td>\n",
       "      <td>NaN</td>\n",
       "      <td>NaN</td>\n",
       "      <td>NaN</td>\n",
       "      <td>NaN</td>\n",
       "      <td>NaN</td>\n",
       "      <td>NaN</td>\n",
       "      <td>NaN</td>\n",
       "      <td>NaN</td>\n",
       "      <td>NaN</td>\n",
       "    </tr>\n",
       "    <tr>\n",
       "      <th>1002789</th>\n",
       "      <td>FIGUEREDO</td>\n",
       "      <td>CABRERA</td>\n",
       "      <td>NILDA</td>\n",
       "      <td>NaN</td>\n",
       "      <td>NaN</td>\n",
       "      <td>NaN</td>\n",
       "      <td>NaN</td>\n",
       "      <td>NaN</td>\n",
       "      <td>NaN</td>\n",
       "      <td>NaN</td>\n",
       "      <td>...</td>\n",
       "      <td>NaN</td>\n",
       "      <td>NaN</td>\n",
       "      <td>NaN</td>\n",
       "      <td>NaN</td>\n",
       "      <td>NaN</td>\n",
       "      <td>NaN</td>\n",
       "      <td>NaN</td>\n",
       "      <td>NaN</td>\n",
       "      <td>NaN</td>\n",
       "      <td>NaN</td>\n",
       "    </tr>\n",
       "    <tr>\n",
       "      <th>1002790</th>\n",
       "      <td>TELLERIA</td>\n",
       "      <td>GONZALEZ</td>\n",
       "      <td>MICHEL</td>\n",
       "      <td>NaN</td>\n",
       "      <td>NaN</td>\n",
       "      <td>NaN</td>\n",
       "      <td>NaN</td>\n",
       "      <td>NaN</td>\n",
       "      <td>NaN</td>\n",
       "      <td>NaN</td>\n",
       "      <td>...</td>\n",
       "      <td>NaN</td>\n",
       "      <td>NaN</td>\n",
       "      <td>NaN</td>\n",
       "      <td>NaN</td>\n",
       "      <td>NaN</td>\n",
       "      <td>NaN</td>\n",
       "      <td>NaN</td>\n",
       "      <td>NaN</td>\n",
       "      <td>NaN</td>\n",
       "      <td>NaN</td>\n",
       "    </tr>\n",
       "    <tr>\n",
       "      <th>1002791</th>\n",
       "      <td>PEREIRA</td>\n",
       "      <td>GAVEZ</td>\n",
       "      <td>DANEISY</td>\n",
       "      <td>NaN</td>\n",
       "      <td>NaN</td>\n",
       "      <td>NaN</td>\n",
       "      <td>NaN</td>\n",
       "      <td>NaN</td>\n",
       "      <td>NaN</td>\n",
       "      <td>NaN</td>\n",
       "      <td>...</td>\n",
       "      <td>NaN</td>\n",
       "      <td>NaN</td>\n",
       "      <td>NaN</td>\n",
       "      <td>NaN</td>\n",
       "      <td>NaN</td>\n",
       "      <td>NaN</td>\n",
       "      <td>NaN</td>\n",
       "      <td>NaN</td>\n",
       "      <td>NaN</td>\n",
       "      <td>NaN</td>\n",
       "    </tr>\n",
       "    <tr>\n",
       "      <th>1002792</th>\n",
       "      <td>CARRASCO</td>\n",
       "      <td>DOMINGUEZ</td>\n",
       "      <td>YOSELIN</td>\n",
       "      <td>NaN</td>\n",
       "      <td>NaN</td>\n",
       "      <td>NaN</td>\n",
       "      <td>NaN</td>\n",
       "      <td>NaN</td>\n",
       "      <td>NaN</td>\n",
       "      <td>NaN</td>\n",
       "      <td>...</td>\n",
       "      <td>NaN</td>\n",
       "      <td>NaN</td>\n",
       "      <td>NaN</td>\n",
       "      <td>NaN</td>\n",
       "      <td>NaN</td>\n",
       "      <td>NaN</td>\n",
       "      <td>NaN</td>\n",
       "      <td>NaN</td>\n",
       "      <td>NaN</td>\n",
       "      <td>NaN</td>\n",
       "    </tr>\n",
       "  </tbody>\n",
       "</table>\n",
       "<p>10 rows × 24 columns</p>\n",
       "</div>"
      ],
      "text/plain": [
       "                0           1           2        3    4    5    6    7    8   \\\n",
       "1002783   GONZALEZ     ALVAREZ       RAMON    MARIO  NaN  NaN  NaN  NaN  NaN   \n",
       "1002784     GARCIA        CRUZ      LESDIE      NaN  NaN  NaN  NaN  NaN  NaN   \n",
       "1002785    HURTADO        DIAZ      ANABEL      NaN  NaN  NaN  NaN  NaN  NaN   \n",
       "1002786     CEDEÑO        MESA      GRISEL      NaN  NaN  NaN  NaN  NaN  NaN   \n",
       "1002787   CASTILLO   HERNANDEZ  ESTANISLAO  OSVALDO  NaN  NaN  NaN  NaN  NaN   \n",
       "1002788     GUERRA  VALLADARES    WILFREDO      NaN  NaN  NaN  NaN  NaN  NaN   \n",
       "1002789  FIGUEREDO     CABRERA       NILDA      NaN  NaN  NaN  NaN  NaN  NaN   \n",
       "1002790   TELLERIA    GONZALEZ      MICHEL      NaN  NaN  NaN  NaN  NaN  NaN   \n",
       "1002791    PEREIRA       GAVEZ     DANEISY      NaN  NaN  NaN  NaN  NaN  NaN   \n",
       "1002792   CARRASCO   DOMINGUEZ     YOSELIN      NaN  NaN  NaN  NaN  NaN  NaN   \n",
       "\n",
       "          9  ...    14   15   16   17   18   19   20   21   22   23  \n",
       "1002783  NaN ...   NaN  NaN  NaN  NaN  NaN  NaN  NaN  NaN  NaN  NaN  \n",
       "1002784  NaN ...   NaN  NaN  NaN  NaN  NaN  NaN  NaN  NaN  NaN  NaN  \n",
       "1002785  NaN ...   NaN  NaN  NaN  NaN  NaN  NaN  NaN  NaN  NaN  NaN  \n",
       "1002786  NaN ...   NaN  NaN  NaN  NaN  NaN  NaN  NaN  NaN  NaN  NaN  \n",
       "1002787  NaN ...   NaN  NaN  NaN  NaN  NaN  NaN  NaN  NaN  NaN  NaN  \n",
       "1002788  NaN ...   NaN  NaN  NaN  NaN  NaN  NaN  NaN  NaN  NaN  NaN  \n",
       "1002789  NaN ...   NaN  NaN  NaN  NaN  NaN  NaN  NaN  NaN  NaN  NaN  \n",
       "1002790  NaN ...   NaN  NaN  NaN  NaN  NaN  NaN  NaN  NaN  NaN  NaN  \n",
       "1002791  NaN ...   NaN  NaN  NaN  NaN  NaN  NaN  NaN  NaN  NaN  NaN  \n",
       "1002792  NaN ...   NaN  NaN  NaN  NaN  NaN  NaN  NaN  NaN  NaN  NaN  \n",
       "\n",
       "[10 rows x 24 columns]"
      ]
     },
     "execution_count": 67,
     "metadata": {},
     "output_type": "execute_result"
    }
   ],
   "source": [
    "new_df.tail(10)"
   ]
  },
  {
   "cell_type": "markdown",
   "metadata": {
    "collapsed": false
   },
   "source": [
    "As we explained before, you may see that columns 0 and 1 contain the surnames, and the names are distributed as of column 2. We are only going to take care of columns 2 and 3 in this exercise. \n",
    "\n",
    "#### Column 2"
   ]
  },
  {
   "cell_type": "code",
   "execution_count": 87,
   "metadata": {
    "collapsed": false
   },
   "outputs": [
    {
     "data": {
      "text/plain": [
       "1002793"
      ]
     },
     "execution_count": 87,
     "metadata": {},
     "output_type": "execute_result"
    }
   ],
   "source": [
    "list2 = new_df[2].tolist()\n",
    "len(list2)"
   ]
  },
  {
   "cell_type": "code",
   "execution_count": 88,
   "metadata": {
    "collapsed": false
   },
   "outputs": [
    {
     "data": {
      "text/plain": [
       "69313"
      ]
     },
     "execution_count": 88,
     "metadata": {},
     "output_type": "execute_result"
    }
   ],
   "source": [
    "len(set(list2))"
   ]
  },
  {
   "cell_type": "markdown",
   "metadata": {},
   "source": [
    "#### Column 3"
   ]
  },
  {
   "cell_type": "code",
   "execution_count": 89,
   "metadata": {
    "collapsed": false
   },
   "outputs": [
    {
     "data": {
      "text/plain": [
       "1002793"
      ]
     },
     "execution_count": 89,
     "metadata": {},
     "output_type": "execute_result"
    }
   ],
   "source": [
    "list3 = new_df[3].tolist()\n",
    "len (list3)"
   ]
  },
  {
   "cell_type": "code",
   "execution_count": 90,
   "metadata": {
    "collapsed": false
   },
   "outputs": [
    {
     "data": {
      "text/plain": [
       "47709"
      ]
     },
     "execution_count": 90,
     "metadata": {},
     "output_type": "execute_result"
    }
   ],
   "source": [
    "len(set(list3))"
   ]
  },
  {
   "cell_type": "markdown",
   "metadata": {},
   "source": [
    "#### Merging both columns"
   ]
  },
  {
   "cell_type": "code",
   "execution_count": 92,
   "metadata": {
    "collapsed": false
   },
   "outputs": [
    {
     "data": {
      "text/plain": [
       "2005586"
      ]
     },
     "execution_count": 92,
     "metadata": {},
     "output_type": "execute_result"
    }
   ],
   "source": [
    "all_the_names = list2 + list3\n",
    "len(all_the_names)"
   ]
  },
  {
   "cell_type": "code",
   "execution_count": 93,
   "metadata": {
    "collapsed": false
   },
   "outputs": [
    {
     "data": {
      "text/plain": [
       "95767"
      ]
     },
     "execution_count": 93,
     "metadata": {},
     "output_type": "execute_result"
    }
   ],
   "source": [
    "len(set(all_the_names))"
   ]
  },
  {
   "cell_type": "code",
   "execution_count": 99,
   "metadata": {
    "collapsed": false
   },
   "outputs": [
    {
     "data": {
      "text/plain": [
       "[(nan, 604660),\n",
       " ('LUIS', 21058),\n",
       " ('MARIA', 19573),\n",
       " ('CARIDAD', 16541),\n",
       " ('DE', 15582),\n",
       " ('JOSE', 13067),\n",
       " ('LA', 12935),\n",
       " ('CARLOS', 12862),\n",
       " ('RODRIGUEZ', 12289),\n",
       " ('', 11996),\n",
       " ('ALBERTO', 11496),\n",
       " ('MANUEL', 11256),\n",
       " ('JORGE', 11128),\n",
       " ('ANTONIO', 10883),\n",
       " ('GONZALEZ', 9959),\n",
       " ('PEREZ', 9630),\n",
       " ('JUAN', 8524),\n",
       " ('JESUS', 7841),\n",
       " ('HERNANDEZ', 7822),\n",
       " ('MIGUEL', 7514)]"
      ]
     },
     "execution_count": 99,
     "metadata": {},
     "output_type": "execute_result"
    }
   ],
   "source": [
    "from collections import Counter\n",
    "Counter(all_the_names).most_common(20)"
   ]
  },
  {
   "cell_type": "markdown",
   "metadata": {
    "collapsed": true
   },
   "source": [
    "Although the results show that some surnames got into our list, we have a preliminary (and ultimately publishable) answer to our question: LUIS and MARIA are the most common names in the list of clients of ETECSA.\n",
    "\n",
    "## Conclusions\n",
    "\n",
    "This is only a first approach to this database, but we know we still need to refine our calculations. This may not be the most common type of document we get in newsrooms, but the experience with this one may be a good reference to work with a database including less private information in the future."
   ]
  },
  {
   "cell_type": "markdown",
   "metadata": {
    "collapsed": true
   },
   "source": [
    "## References\n",
    "\n",
    "- Python 3.5.2 Documentation (2015), DB-API 2.0 interface for SQLite databases. Available at: https://docs.python.org/3.5/library/sqlite3.html Accessed on 20 Aug. 2016\n",
    "\n",
    "- Stack Overflow (2012),*Is there a way to get a schema of a database from within python?*, available at\n",
    "http://stackoverflow.com/questions/11996394/is-there-a-way-to-get-a-schema-of-a-database-from-within-python\n",
    "\n",
    "- Devlin, Catherin (2016), *ipython-sql*, available at: https://github.com/catherinedevlin/ipython-sql"
   ]
  }
 ],
 "metadata": {
  "kernelspec": {
   "display_name": "Python 3",
   "language": "python",
   "name": "python3"
  },
  "language_info": {
   "codemirror_mode": {
    "name": "ipython",
    "version": 3
   },
   "file_extension": ".py",
   "mimetype": "text/x-python",
   "name": "python",
   "nbconvert_exporter": "python",
   "pygments_lexer": "ipython3",
   "version": "3.4.3"
  }
 },
 "nbformat": 4,
 "nbformat_minor": 0
}
